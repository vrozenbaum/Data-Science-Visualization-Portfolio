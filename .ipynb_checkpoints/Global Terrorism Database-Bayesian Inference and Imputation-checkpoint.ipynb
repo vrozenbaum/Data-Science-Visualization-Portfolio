{
 "cells": [
  {
   "cell_type": "markdown",
   "metadata": {},
   "source": [
    "## Global Terrorism Database: EDA, Bayesian Inference & Imputation "
   ]
  },
  {
   "cell_type": "code",
   "execution_count": 1,
   "metadata": {
    "collapsed": false
   },
   "outputs": [],
   "source": [
    "import pandas as pd\n",
    "import numpy as np\n",
    "\n",
    "import matplotlib as mpl\n",
    "import seaborn as sns\n",
    "import matplotlib.pyplot as plt\n",
    "sns.set(font_scale=1.5)\n",
    "mpl.rcParams['figure.figsize'] = 12, 8\n",
    "sns.set_style('darkgrid')\n",
    "sns.set_context('poster')\n",
    "%matplotlib inline\n",
    "\n",
    "import datetime\n",
    "from IPython.display import display\n",
    "pd.set_option('display.max_columns', None)\n",
    "display()"
   ]
  },
  {
   "cell_type": "code",
   "execution_count": 2,
   "metadata": {
    "collapsed": false
   },
   "outputs": [],
   "source": [
    "gtd = pd.read_csv('/Users/valeriarozenbaum/Documents/DSI/DSI Projects/Project 5/globalterrorismdb_0616dist.csv', low_memory=False)"
   ]
  },
  {
   "cell_type": "code",
   "execution_count": 3,
   "metadata": {
    "collapsed": true
   },
   "outputs": [],
   "source": [
    "gtd.ix[gtd.imonth == 0, 'imonth'] = 1\n",
    "gtd.ix[gtd.iday == 0, 'iday'] = 1"
   ]
  },
  {
   "cell_type": "code",
   "execution_count": 4,
   "metadata": {
    "collapsed": false
   },
   "outputs": [],
   "source": [
    "gtd['date']= gtd.apply(lambda x:datetime.datetime.strptime(\"{0} {1} {2}\".format(x['iyear'],\n",
    "                                                                     x['imonth'], \n",
    "                                                                     x['iday']), \n",
    "                                                \"%Y %m %d\"),axis=1)"
   ]
  },
  {
   "cell_type": "code",
   "execution_count": 5,
   "metadata": {
    "collapsed": false
   },
   "outputs": [
    {
     "data": {
      "text/html": [
       "<div>\n",
       "<table border=\"1\" class=\"dataframe\">\n",
       "  <thead>\n",
       "    <tr style=\"text-align: right;\">\n",
       "      <th></th>\n",
       "      <th>eventid</th>\n",
       "      <th>iyear</th>\n",
       "      <th>imonth</th>\n",
       "      <th>iday</th>\n",
       "      <th>approxdate</th>\n",
       "      <th>extended</th>\n",
       "      <th>resolution</th>\n",
       "      <th>country</th>\n",
       "      <th>country_txt</th>\n",
       "      <th>region</th>\n",
       "      <th>region_txt</th>\n",
       "      <th>provstate</th>\n",
       "      <th>city</th>\n",
       "      <th>latitude</th>\n",
       "      <th>longitude</th>\n",
       "      <th>specificity</th>\n",
       "      <th>vicinity</th>\n",
       "      <th>location</th>\n",
       "      <th>summary</th>\n",
       "      <th>crit1</th>\n",
       "      <th>crit2</th>\n",
       "      <th>crit3</th>\n",
       "      <th>doubtterr</th>\n",
       "      <th>alternative</th>\n",
       "      <th>alternative_txt</th>\n",
       "      <th>multiple</th>\n",
       "      <th>success</th>\n",
       "      <th>suicide</th>\n",
       "      <th>attacktype1</th>\n",
       "      <th>attacktype1_txt</th>\n",
       "      <th>attacktype2</th>\n",
       "      <th>attacktype2_txt</th>\n",
       "      <th>attacktype3</th>\n",
       "      <th>attacktype3_txt</th>\n",
       "      <th>targtype1</th>\n",
       "      <th>targtype1_txt</th>\n",
       "      <th>targsubtype1</th>\n",
       "      <th>targsubtype1_txt</th>\n",
       "      <th>corp1</th>\n",
       "      <th>target1</th>\n",
       "      <th>natlty1</th>\n",
       "      <th>natlty1_txt</th>\n",
       "      <th>targtype2</th>\n",
       "      <th>targtype2_txt</th>\n",
       "      <th>targsubtype2</th>\n",
       "      <th>targsubtype2_txt</th>\n",
       "      <th>corp2</th>\n",
       "      <th>target2</th>\n",
       "      <th>natlty2</th>\n",
       "      <th>natlty2_txt</th>\n",
       "      <th>targtype3</th>\n",
       "      <th>targtype3_txt</th>\n",
       "      <th>targsubtype3</th>\n",
       "      <th>targsubtype3_txt</th>\n",
       "      <th>corp3</th>\n",
       "      <th>target3</th>\n",
       "      <th>natlty3</th>\n",
       "      <th>natlty3_txt</th>\n",
       "      <th>gname</th>\n",
       "      <th>gsubname</th>\n",
       "      <th>gname2</th>\n",
       "      <th>gsubname2</th>\n",
       "      <th>gname3</th>\n",
       "      <th>ingroup</th>\n",
       "      <th>ingroup2</th>\n",
       "      <th>ingroup3</th>\n",
       "      <th>gsubname3</th>\n",
       "      <th>motive</th>\n",
       "      <th>guncertain1</th>\n",
       "      <th>guncertain2</th>\n",
       "      <th>guncertain3</th>\n",
       "      <th>nperps</th>\n",
       "      <th>nperpcap</th>\n",
       "      <th>claimed</th>\n",
       "      <th>claimmode</th>\n",
       "      <th>claimmode_txt</th>\n",
       "      <th>claim2</th>\n",
       "      <th>claimmode2</th>\n",
       "      <th>claimmode2_txt</th>\n",
       "      <th>claim3</th>\n",
       "      <th>claimmode3</th>\n",
       "      <th>claimmode3_txt</th>\n",
       "      <th>compclaim</th>\n",
       "      <th>weaptype1</th>\n",
       "      <th>weaptype1_txt</th>\n",
       "      <th>weapsubtype1</th>\n",
       "      <th>weapsubtype1_txt</th>\n",
       "      <th>weaptype2</th>\n",
       "      <th>weaptype2_txt</th>\n",
       "      <th>weapsubtype2</th>\n",
       "      <th>weapsubtype2_txt</th>\n",
       "      <th>weaptype3</th>\n",
       "      <th>weaptype3_txt</th>\n",
       "      <th>weapsubtype3</th>\n",
       "      <th>weapsubtype3_txt</th>\n",
       "      <th>weaptype4</th>\n",
       "      <th>weaptype4_txt</th>\n",
       "      <th>weapsubtype4</th>\n",
       "      <th>weapsubtype4_txt</th>\n",
       "      <th>weapdetail</th>\n",
       "      <th>nkill</th>\n",
       "      <th>nkillus</th>\n",
       "      <th>nkillter</th>\n",
       "      <th>nwound</th>\n",
       "      <th>nwoundus</th>\n",
       "      <th>nwoundte</th>\n",
       "      <th>property</th>\n",
       "      <th>propextent</th>\n",
       "      <th>propextent_txt</th>\n",
       "      <th>propvalue</th>\n",
       "      <th>propcomment</th>\n",
       "      <th>ishostkid</th>\n",
       "      <th>nhostkid</th>\n",
       "      <th>nhostkidus</th>\n",
       "      <th>nhours</th>\n",
       "      <th>ndays</th>\n",
       "      <th>divert</th>\n",
       "      <th>kidhijcountry</th>\n",
       "      <th>ransom</th>\n",
       "      <th>ransomamt</th>\n",
       "      <th>ransomamtus</th>\n",
       "      <th>ransompaid</th>\n",
       "      <th>ransompaidus</th>\n",
       "      <th>ransomnote</th>\n",
       "      <th>hostkidoutcome</th>\n",
       "      <th>hostkidoutcome_txt</th>\n",
       "      <th>nreleased</th>\n",
       "      <th>addnotes</th>\n",
       "      <th>scite1</th>\n",
       "      <th>scite2</th>\n",
       "      <th>scite3</th>\n",
       "      <th>dbsource</th>\n",
       "      <th>INT_LOG</th>\n",
       "      <th>INT_IDEO</th>\n",
       "      <th>INT_MISC</th>\n",
       "      <th>INT_ANY</th>\n",
       "      <th>related</th>\n",
       "      <th>date</th>\n",
       "    </tr>\n",
       "  </thead>\n",
       "  <tbody>\n",
       "    <tr>\n",
       "      <th>0</th>\n",
       "      <td>197000000001</td>\n",
       "      <td>1970</td>\n",
       "      <td>1</td>\n",
       "      <td>1</td>\n",
       "      <td>NaN</td>\n",
       "      <td>0</td>\n",
       "      <td>NaN</td>\n",
       "      <td>58</td>\n",
       "      <td>Dominican Republic</td>\n",
       "      <td>2</td>\n",
       "      <td>Central America &amp; Caribbean</td>\n",
       "      <td>NaN</td>\n",
       "      <td>Santo Domingo</td>\n",
       "      <td>18.456792</td>\n",
       "      <td>-69.951164</td>\n",
       "      <td>1</td>\n",
       "      <td>0</td>\n",
       "      <td>NaN</td>\n",
       "      <td>NaN</td>\n",
       "      <td>1</td>\n",
       "      <td>1</td>\n",
       "      <td>1</td>\n",
       "      <td>0.0</td>\n",
       "      <td>NaN</td>\n",
       "      <td>.</td>\n",
       "      <td>0</td>\n",
       "      <td>1</td>\n",
       "      <td>0</td>\n",
       "      <td>1</td>\n",
       "      <td>Assassination</td>\n",
       "      <td>NaN</td>\n",
       "      <td>.</td>\n",
       "      <td>NaN</td>\n",
       "      <td>.</td>\n",
       "      <td>14</td>\n",
       "      <td>Private Citizens &amp; Property</td>\n",
       "      <td>68.0</td>\n",
       "      <td>Named Civilian</td>\n",
       "      <td>NaN</td>\n",
       "      <td>Julio Guzman</td>\n",
       "      <td>58.0</td>\n",
       "      <td>Dominican Republic</td>\n",
       "      <td>NaN</td>\n",
       "      <td>.</td>\n",
       "      <td>NaN</td>\n",
       "      <td>.</td>\n",
       "      <td>NaN</td>\n",
       "      <td>NaN</td>\n",
       "      <td>NaN</td>\n",
       "      <td>.</td>\n",
       "      <td>NaN</td>\n",
       "      <td>.</td>\n",
       "      <td>NaN</td>\n",
       "      <td>.</td>\n",
       "      <td>NaN</td>\n",
       "      <td>NaN</td>\n",
       "      <td>NaN</td>\n",
       "      <td>.</td>\n",
       "      <td>MANO-D</td>\n",
       "      <td>NaN</td>\n",
       "      <td>NaN</td>\n",
       "      <td>NaN</td>\n",
       "      <td>NaN</td>\n",
       "      <td>3629</td>\n",
       "      <td>NaN</td>\n",
       "      <td>NaN</td>\n",
       "      <td>NaN</td>\n",
       "      <td>NaN</td>\n",
       "      <td>0.0</td>\n",
       "      <td>NaN</td>\n",
       "      <td>NaN</td>\n",
       "      <td>NaN</td>\n",
       "      <td>NaN</td>\n",
       "      <td>NaN</td>\n",
       "      <td>NaN</td>\n",
       "      <td>.</td>\n",
       "      <td>NaN</td>\n",
       "      <td>NaN</td>\n",
       "      <td>.</td>\n",
       "      <td>NaN</td>\n",
       "      <td>NaN</td>\n",
       "      <td>.</td>\n",
       "      <td>NaN</td>\n",
       "      <td>13</td>\n",
       "      <td>Unknown</td>\n",
       "      <td>NaN</td>\n",
       "      <td>.</td>\n",
       "      <td>NaN</td>\n",
       "      <td>.</td>\n",
       "      <td>NaN</td>\n",
       "      <td>.</td>\n",
       "      <td>NaN</td>\n",
       "      <td>.</td>\n",
       "      <td>NaN</td>\n",
       "      <td>.</td>\n",
       "      <td>NaN</td>\n",
       "      <td>.</td>\n",
       "      <td>NaN</td>\n",
       "      <td>.</td>\n",
       "      <td>NaN</td>\n",
       "      <td>1.0</td>\n",
       "      <td>NaN</td>\n",
       "      <td>NaN</td>\n",
       "      <td>0.0</td>\n",
       "      <td>NaN</td>\n",
       "      <td>NaN</td>\n",
       "      <td>0</td>\n",
       "      <td>NaN</td>\n",
       "      <td>.</td>\n",
       "      <td>NaN</td>\n",
       "      <td>NaN</td>\n",
       "      <td>0.0</td>\n",
       "      <td>NaN</td>\n",
       "      <td>NaN</td>\n",
       "      <td>NaN</td>\n",
       "      <td>NaN</td>\n",
       "      <td>NaN</td>\n",
       "      <td>NaN</td>\n",
       "      <td>0.0</td>\n",
       "      <td>NaN</td>\n",
       "      <td>NaN</td>\n",
       "      <td>NaN</td>\n",
       "      <td>NaN</td>\n",
       "      <td>NaN</td>\n",
       "      <td>NaN</td>\n",
       "      <td>.</td>\n",
       "      <td>NaN</td>\n",
       "      <td>NaN</td>\n",
       "      <td>NaN</td>\n",
       "      <td>NaN</td>\n",
       "      <td>NaN</td>\n",
       "      <td>PGIS</td>\n",
       "      <td>0</td>\n",
       "      <td>0</td>\n",
       "      <td>0</td>\n",
       "      <td>0</td>\n",
       "      <td>NaN</td>\n",
       "      <td>1970-01-01</td>\n",
       "    </tr>\n",
       "    <tr>\n",
       "      <th>1</th>\n",
       "      <td>197000000002</td>\n",
       "      <td>1970</td>\n",
       "      <td>1</td>\n",
       "      <td>1</td>\n",
       "      <td>NaN</td>\n",
       "      <td>0</td>\n",
       "      <td>NaN</td>\n",
       "      <td>130</td>\n",
       "      <td>Mexico</td>\n",
       "      <td>1</td>\n",
       "      <td>North America</td>\n",
       "      <td>NaN</td>\n",
       "      <td>Mexico city</td>\n",
       "      <td>19.432608</td>\n",
       "      <td>-99.133207</td>\n",
       "      <td>1</td>\n",
       "      <td>0</td>\n",
       "      <td>NaN</td>\n",
       "      <td>NaN</td>\n",
       "      <td>1</td>\n",
       "      <td>1</td>\n",
       "      <td>1</td>\n",
       "      <td>0.0</td>\n",
       "      <td>NaN</td>\n",
       "      <td>.</td>\n",
       "      <td>0</td>\n",
       "      <td>1</td>\n",
       "      <td>0</td>\n",
       "      <td>6</td>\n",
       "      <td>Hostage Taking (Kidnapping)</td>\n",
       "      <td>NaN</td>\n",
       "      <td>.</td>\n",
       "      <td>NaN</td>\n",
       "      <td>.</td>\n",
       "      <td>7</td>\n",
       "      <td>Government (Diplomatic)</td>\n",
       "      <td>45.0</td>\n",
       "      <td>Diplomatic Personnel (outside of embassy, cons...</td>\n",
       "      <td>Belgian Ambassador Daughter</td>\n",
       "      <td>Nadine Chaval, daughter</td>\n",
       "      <td>21.0</td>\n",
       "      <td>Belgium</td>\n",
       "      <td>NaN</td>\n",
       "      <td>.</td>\n",
       "      <td>NaN</td>\n",
       "      <td>.</td>\n",
       "      <td>NaN</td>\n",
       "      <td>NaN</td>\n",
       "      <td>NaN</td>\n",
       "      <td>.</td>\n",
       "      <td>NaN</td>\n",
       "      <td>.</td>\n",
       "      <td>NaN</td>\n",
       "      <td>.</td>\n",
       "      <td>NaN</td>\n",
       "      <td>NaN</td>\n",
       "      <td>NaN</td>\n",
       "      <td>.</td>\n",
       "      <td>23rd of September Communist League</td>\n",
       "      <td>NaN</td>\n",
       "      <td>NaN</td>\n",
       "      <td>NaN</td>\n",
       "      <td>NaN</td>\n",
       "      <td>3330</td>\n",
       "      <td>NaN</td>\n",
       "      <td>NaN</td>\n",
       "      <td>NaN</td>\n",
       "      <td>NaN</td>\n",
       "      <td>0.0</td>\n",
       "      <td>NaN</td>\n",
       "      <td>NaN</td>\n",
       "      <td>7.0</td>\n",
       "      <td>NaN</td>\n",
       "      <td>NaN</td>\n",
       "      <td>NaN</td>\n",
       "      <td>.</td>\n",
       "      <td>NaN</td>\n",
       "      <td>NaN</td>\n",
       "      <td>.</td>\n",
       "      <td>NaN</td>\n",
       "      <td>NaN</td>\n",
       "      <td>.</td>\n",
       "      <td>NaN</td>\n",
       "      <td>13</td>\n",
       "      <td>Unknown</td>\n",
       "      <td>NaN</td>\n",
       "      <td>.</td>\n",
       "      <td>NaN</td>\n",
       "      <td>.</td>\n",
       "      <td>NaN</td>\n",
       "      <td>.</td>\n",
       "      <td>NaN</td>\n",
       "      <td>.</td>\n",
       "      <td>NaN</td>\n",
       "      <td>.</td>\n",
       "      <td>NaN</td>\n",
       "      <td>.</td>\n",
       "      <td>NaN</td>\n",
       "      <td>.</td>\n",
       "      <td>NaN</td>\n",
       "      <td>0.0</td>\n",
       "      <td>NaN</td>\n",
       "      <td>NaN</td>\n",
       "      <td>0.0</td>\n",
       "      <td>NaN</td>\n",
       "      <td>NaN</td>\n",
       "      <td>0</td>\n",
       "      <td>NaN</td>\n",
       "      <td>.</td>\n",
       "      <td>NaN</td>\n",
       "      <td>NaN</td>\n",
       "      <td>1.0</td>\n",
       "      <td>1.0</td>\n",
       "      <td>0.0</td>\n",
       "      <td>NaN</td>\n",
       "      <td>NaN</td>\n",
       "      <td>NaN</td>\n",
       "      <td>Mexico</td>\n",
       "      <td>1.0</td>\n",
       "      <td>800000.0</td>\n",
       "      <td>NaN</td>\n",
       "      <td>NaN</td>\n",
       "      <td>NaN</td>\n",
       "      <td>NaN</td>\n",
       "      <td>NaN</td>\n",
       "      <td>.</td>\n",
       "      <td>NaN</td>\n",
       "      <td>NaN</td>\n",
       "      <td>NaN</td>\n",
       "      <td>NaN</td>\n",
       "      <td>NaN</td>\n",
       "      <td>PGIS</td>\n",
       "      <td>0</td>\n",
       "      <td>1</td>\n",
       "      <td>1</td>\n",
       "      <td>1</td>\n",
       "      <td>NaN</td>\n",
       "      <td>1970-01-01</td>\n",
       "    </tr>\n",
       "    <tr>\n",
       "      <th>2</th>\n",
       "      <td>197001000001</td>\n",
       "      <td>1970</td>\n",
       "      <td>1</td>\n",
       "      <td>1</td>\n",
       "      <td>NaN</td>\n",
       "      <td>0</td>\n",
       "      <td>NaN</td>\n",
       "      <td>160</td>\n",
       "      <td>Philippines</td>\n",
       "      <td>5</td>\n",
       "      <td>Southeast Asia</td>\n",
       "      <td>Tarlac</td>\n",
       "      <td>Unknown</td>\n",
       "      <td>15.478598</td>\n",
       "      <td>120.599741</td>\n",
       "      <td>4</td>\n",
       "      <td>0</td>\n",
       "      <td>NaN</td>\n",
       "      <td>NaN</td>\n",
       "      <td>1</td>\n",
       "      <td>1</td>\n",
       "      <td>1</td>\n",
       "      <td>0.0</td>\n",
       "      <td>NaN</td>\n",
       "      <td>.</td>\n",
       "      <td>0</td>\n",
       "      <td>1</td>\n",
       "      <td>0</td>\n",
       "      <td>1</td>\n",
       "      <td>Assassination</td>\n",
       "      <td>NaN</td>\n",
       "      <td>.</td>\n",
       "      <td>NaN</td>\n",
       "      <td>.</td>\n",
       "      <td>10</td>\n",
       "      <td>Journalists &amp; Media</td>\n",
       "      <td>54.0</td>\n",
       "      <td>Radio Journalist/Staff/Facility</td>\n",
       "      <td>Voice of America</td>\n",
       "      <td>Employee</td>\n",
       "      <td>217.0</td>\n",
       "      <td>United States</td>\n",
       "      <td>NaN</td>\n",
       "      <td>.</td>\n",
       "      <td>NaN</td>\n",
       "      <td>.</td>\n",
       "      <td>NaN</td>\n",
       "      <td>NaN</td>\n",
       "      <td>NaN</td>\n",
       "      <td>.</td>\n",
       "      <td>NaN</td>\n",
       "      <td>.</td>\n",
       "      <td>NaN</td>\n",
       "      <td>.</td>\n",
       "      <td>NaN</td>\n",
       "      <td>NaN</td>\n",
       "      <td>NaN</td>\n",
       "      <td>.</td>\n",
       "      <td>Unknown</td>\n",
       "      <td>NaN</td>\n",
       "      <td>NaN</td>\n",
       "      <td>NaN</td>\n",
       "      <td>NaN</td>\n",
       "      <td>-9</td>\n",
       "      <td>NaN</td>\n",
       "      <td>NaN</td>\n",
       "      <td>NaN</td>\n",
       "      <td>NaN</td>\n",
       "      <td>0.0</td>\n",
       "      <td>NaN</td>\n",
       "      <td>NaN</td>\n",
       "      <td>NaN</td>\n",
       "      <td>NaN</td>\n",
       "      <td>NaN</td>\n",
       "      <td>NaN</td>\n",
       "      <td>.</td>\n",
       "      <td>NaN</td>\n",
       "      <td>NaN</td>\n",
       "      <td>.</td>\n",
       "      <td>NaN</td>\n",
       "      <td>NaN</td>\n",
       "      <td>.</td>\n",
       "      <td>NaN</td>\n",
       "      <td>13</td>\n",
       "      <td>Unknown</td>\n",
       "      <td>NaN</td>\n",
       "      <td>.</td>\n",
       "      <td>NaN</td>\n",
       "      <td>.</td>\n",
       "      <td>NaN</td>\n",
       "      <td>.</td>\n",
       "      <td>NaN</td>\n",
       "      <td>.</td>\n",
       "      <td>NaN</td>\n",
       "      <td>.</td>\n",
       "      <td>NaN</td>\n",
       "      <td>.</td>\n",
       "      <td>NaN</td>\n",
       "      <td>.</td>\n",
       "      <td>NaN</td>\n",
       "      <td>1.0</td>\n",
       "      <td>NaN</td>\n",
       "      <td>NaN</td>\n",
       "      <td>0.0</td>\n",
       "      <td>NaN</td>\n",
       "      <td>NaN</td>\n",
       "      <td>0</td>\n",
       "      <td>NaN</td>\n",
       "      <td>.</td>\n",
       "      <td>NaN</td>\n",
       "      <td>NaN</td>\n",
       "      <td>0.0</td>\n",
       "      <td>NaN</td>\n",
       "      <td>NaN</td>\n",
       "      <td>NaN</td>\n",
       "      <td>NaN</td>\n",
       "      <td>NaN</td>\n",
       "      <td>NaN</td>\n",
       "      <td>0.0</td>\n",
       "      <td>NaN</td>\n",
       "      <td>NaN</td>\n",
       "      <td>NaN</td>\n",
       "      <td>NaN</td>\n",
       "      <td>NaN</td>\n",
       "      <td>NaN</td>\n",
       "      <td>.</td>\n",
       "      <td>NaN</td>\n",
       "      <td>NaN</td>\n",
       "      <td>NaN</td>\n",
       "      <td>NaN</td>\n",
       "      <td>NaN</td>\n",
       "      <td>PGIS</td>\n",
       "      <td>-9</td>\n",
       "      <td>-9</td>\n",
       "      <td>1</td>\n",
       "      <td>1</td>\n",
       "      <td>NaN</td>\n",
       "      <td>1970-01-01</td>\n",
       "    </tr>\n",
       "    <tr>\n",
       "      <th>3</th>\n",
       "      <td>197001000002</td>\n",
       "      <td>1970</td>\n",
       "      <td>1</td>\n",
       "      <td>1</td>\n",
       "      <td>NaN</td>\n",
       "      <td>0</td>\n",
       "      <td>NaN</td>\n",
       "      <td>78</td>\n",
       "      <td>Greece</td>\n",
       "      <td>8</td>\n",
       "      <td>Western Europe</td>\n",
       "      <td>Attica</td>\n",
       "      <td>Athens</td>\n",
       "      <td>37.983773</td>\n",
       "      <td>23.728157</td>\n",
       "      <td>1</td>\n",
       "      <td>0</td>\n",
       "      <td>NaN</td>\n",
       "      <td>NaN</td>\n",
       "      <td>1</td>\n",
       "      <td>1</td>\n",
       "      <td>1</td>\n",
       "      <td>0.0</td>\n",
       "      <td>NaN</td>\n",
       "      <td>.</td>\n",
       "      <td>0</td>\n",
       "      <td>1</td>\n",
       "      <td>0</td>\n",
       "      <td>3</td>\n",
       "      <td>Bombing/Explosion</td>\n",
       "      <td>NaN</td>\n",
       "      <td>.</td>\n",
       "      <td>NaN</td>\n",
       "      <td>.</td>\n",
       "      <td>7</td>\n",
       "      <td>Government (Diplomatic)</td>\n",
       "      <td>46.0</td>\n",
       "      <td>Embassy/Consulate</td>\n",
       "      <td>NaN</td>\n",
       "      <td>U.S. Embassy</td>\n",
       "      <td>217.0</td>\n",
       "      <td>United States</td>\n",
       "      <td>NaN</td>\n",
       "      <td>.</td>\n",
       "      <td>NaN</td>\n",
       "      <td>.</td>\n",
       "      <td>NaN</td>\n",
       "      <td>NaN</td>\n",
       "      <td>NaN</td>\n",
       "      <td>.</td>\n",
       "      <td>NaN</td>\n",
       "      <td>.</td>\n",
       "      <td>NaN</td>\n",
       "      <td>.</td>\n",
       "      <td>NaN</td>\n",
       "      <td>NaN</td>\n",
       "      <td>NaN</td>\n",
       "      <td>.</td>\n",
       "      <td>Unknown</td>\n",
       "      <td>NaN</td>\n",
       "      <td>NaN</td>\n",
       "      <td>NaN</td>\n",
       "      <td>NaN</td>\n",
       "      <td>-9</td>\n",
       "      <td>NaN</td>\n",
       "      <td>NaN</td>\n",
       "      <td>NaN</td>\n",
       "      <td>NaN</td>\n",
       "      <td>0.0</td>\n",
       "      <td>NaN</td>\n",
       "      <td>NaN</td>\n",
       "      <td>NaN</td>\n",
       "      <td>NaN</td>\n",
       "      <td>NaN</td>\n",
       "      <td>NaN</td>\n",
       "      <td>.</td>\n",
       "      <td>NaN</td>\n",
       "      <td>NaN</td>\n",
       "      <td>.</td>\n",
       "      <td>NaN</td>\n",
       "      <td>NaN</td>\n",
       "      <td>.</td>\n",
       "      <td>NaN</td>\n",
       "      <td>6</td>\n",
       "      <td>Explosives/Bombs/Dynamite</td>\n",
       "      <td>16.0</td>\n",
       "      <td>Unknown Explosive Type</td>\n",
       "      <td>NaN</td>\n",
       "      <td>.</td>\n",
       "      <td>NaN</td>\n",
       "      <td>.</td>\n",
       "      <td>NaN</td>\n",
       "      <td>.</td>\n",
       "      <td>NaN</td>\n",
       "      <td>.</td>\n",
       "      <td>NaN</td>\n",
       "      <td>.</td>\n",
       "      <td>NaN</td>\n",
       "      <td>.</td>\n",
       "      <td>Explosive</td>\n",
       "      <td>NaN</td>\n",
       "      <td>NaN</td>\n",
       "      <td>NaN</td>\n",
       "      <td>NaN</td>\n",
       "      <td>NaN</td>\n",
       "      <td>NaN</td>\n",
       "      <td>1</td>\n",
       "      <td>NaN</td>\n",
       "      <td>.</td>\n",
       "      <td>NaN</td>\n",
       "      <td>NaN</td>\n",
       "      <td>0.0</td>\n",
       "      <td>NaN</td>\n",
       "      <td>NaN</td>\n",
       "      <td>NaN</td>\n",
       "      <td>NaN</td>\n",
       "      <td>NaN</td>\n",
       "      <td>NaN</td>\n",
       "      <td>0.0</td>\n",
       "      <td>NaN</td>\n",
       "      <td>NaN</td>\n",
       "      <td>NaN</td>\n",
       "      <td>NaN</td>\n",
       "      <td>NaN</td>\n",
       "      <td>NaN</td>\n",
       "      <td>.</td>\n",
       "      <td>NaN</td>\n",
       "      <td>NaN</td>\n",
       "      <td>NaN</td>\n",
       "      <td>NaN</td>\n",
       "      <td>NaN</td>\n",
       "      <td>PGIS</td>\n",
       "      <td>-9</td>\n",
       "      <td>-9</td>\n",
       "      <td>1</td>\n",
       "      <td>1</td>\n",
       "      <td>NaN</td>\n",
       "      <td>1970-01-01</td>\n",
       "    </tr>\n",
       "    <tr>\n",
       "      <th>4</th>\n",
       "      <td>197001000003</td>\n",
       "      <td>1970</td>\n",
       "      <td>1</td>\n",
       "      <td>1</td>\n",
       "      <td>NaN</td>\n",
       "      <td>0</td>\n",
       "      <td>NaN</td>\n",
       "      <td>101</td>\n",
       "      <td>Japan</td>\n",
       "      <td>4</td>\n",
       "      <td>East Asia</td>\n",
       "      <td>NaN</td>\n",
       "      <td>Fukouka</td>\n",
       "      <td>33.580412</td>\n",
       "      <td>130.396361</td>\n",
       "      <td>1</td>\n",
       "      <td>0</td>\n",
       "      <td>NaN</td>\n",
       "      <td>NaN</td>\n",
       "      <td>1</td>\n",
       "      <td>1</td>\n",
       "      <td>1</td>\n",
       "      <td>-9.0</td>\n",
       "      <td>NaN</td>\n",
       "      <td>.</td>\n",
       "      <td>0</td>\n",
       "      <td>1</td>\n",
       "      <td>0</td>\n",
       "      <td>7</td>\n",
       "      <td>Facility/Infrastructure Attack</td>\n",
       "      <td>NaN</td>\n",
       "      <td>.</td>\n",
       "      <td>NaN</td>\n",
       "      <td>.</td>\n",
       "      <td>7</td>\n",
       "      <td>Government (Diplomatic)</td>\n",
       "      <td>46.0</td>\n",
       "      <td>Embassy/Consulate</td>\n",
       "      <td>NaN</td>\n",
       "      <td>U.S. Consulate</td>\n",
       "      <td>217.0</td>\n",
       "      <td>United States</td>\n",
       "      <td>NaN</td>\n",
       "      <td>.</td>\n",
       "      <td>NaN</td>\n",
       "      <td>.</td>\n",
       "      <td>NaN</td>\n",
       "      <td>NaN</td>\n",
       "      <td>NaN</td>\n",
       "      <td>.</td>\n",
       "      <td>NaN</td>\n",
       "      <td>.</td>\n",
       "      <td>NaN</td>\n",
       "      <td>.</td>\n",
       "      <td>NaN</td>\n",
       "      <td>NaN</td>\n",
       "      <td>NaN</td>\n",
       "      <td>.</td>\n",
       "      <td>Unknown</td>\n",
       "      <td>NaN</td>\n",
       "      <td>NaN</td>\n",
       "      <td>NaN</td>\n",
       "      <td>NaN</td>\n",
       "      <td>-9</td>\n",
       "      <td>NaN</td>\n",
       "      <td>NaN</td>\n",
       "      <td>NaN</td>\n",
       "      <td>NaN</td>\n",
       "      <td>0.0</td>\n",
       "      <td>NaN</td>\n",
       "      <td>NaN</td>\n",
       "      <td>NaN</td>\n",
       "      <td>NaN</td>\n",
       "      <td>NaN</td>\n",
       "      <td>NaN</td>\n",
       "      <td>.</td>\n",
       "      <td>NaN</td>\n",
       "      <td>NaN</td>\n",
       "      <td>.</td>\n",
       "      <td>NaN</td>\n",
       "      <td>NaN</td>\n",
       "      <td>.</td>\n",
       "      <td>NaN</td>\n",
       "      <td>8</td>\n",
       "      <td>Incendiary</td>\n",
       "      <td>NaN</td>\n",
       "      <td>.</td>\n",
       "      <td>NaN</td>\n",
       "      <td>.</td>\n",
       "      <td>NaN</td>\n",
       "      <td>.</td>\n",
       "      <td>NaN</td>\n",
       "      <td>.</td>\n",
       "      <td>NaN</td>\n",
       "      <td>.</td>\n",
       "      <td>NaN</td>\n",
       "      <td>.</td>\n",
       "      <td>NaN</td>\n",
       "      <td>.</td>\n",
       "      <td>Incendiary</td>\n",
       "      <td>NaN</td>\n",
       "      <td>NaN</td>\n",
       "      <td>NaN</td>\n",
       "      <td>NaN</td>\n",
       "      <td>NaN</td>\n",
       "      <td>NaN</td>\n",
       "      <td>1</td>\n",
       "      <td>NaN</td>\n",
       "      <td>.</td>\n",
       "      <td>NaN</td>\n",
       "      <td>NaN</td>\n",
       "      <td>0.0</td>\n",
       "      <td>NaN</td>\n",
       "      <td>NaN</td>\n",
       "      <td>NaN</td>\n",
       "      <td>NaN</td>\n",
       "      <td>NaN</td>\n",
       "      <td>NaN</td>\n",
       "      <td>0.0</td>\n",
       "      <td>NaN</td>\n",
       "      <td>NaN</td>\n",
       "      <td>NaN</td>\n",
       "      <td>NaN</td>\n",
       "      <td>NaN</td>\n",
       "      <td>NaN</td>\n",
       "      <td>.</td>\n",
       "      <td>NaN</td>\n",
       "      <td>NaN</td>\n",
       "      <td>NaN</td>\n",
       "      <td>NaN</td>\n",
       "      <td>NaN</td>\n",
       "      <td>PGIS</td>\n",
       "      <td>-9</td>\n",
       "      <td>-9</td>\n",
       "      <td>1</td>\n",
       "      <td>1</td>\n",
       "      <td>NaN</td>\n",
       "      <td>1970-01-01</td>\n",
       "    </tr>\n",
       "  </tbody>\n",
       "</table>\n",
       "</div>"
      ],
      "text/plain": [
       "        eventid  iyear  imonth  iday approxdate  extended resolution  country  \\\n",
       "0  197000000001   1970       1     1        NaN         0        NaN       58   \n",
       "1  197000000002   1970       1     1        NaN         0        NaN      130   \n",
       "2  197001000001   1970       1     1        NaN         0        NaN      160   \n",
       "3  197001000002   1970       1     1        NaN         0        NaN       78   \n",
       "4  197001000003   1970       1     1        NaN         0        NaN      101   \n",
       "\n",
       "          country_txt  region                   region_txt provstate  \\\n",
       "0  Dominican Republic       2  Central America & Caribbean       NaN   \n",
       "1              Mexico       1                North America       NaN   \n",
       "2         Philippines       5               Southeast Asia    Tarlac   \n",
       "3              Greece       8               Western Europe    Attica   \n",
       "4               Japan       4                    East Asia       NaN   \n",
       "\n",
       "            city   latitude   longitude  specificity  vicinity location  \\\n",
       "0  Santo Domingo  18.456792  -69.951164            1         0      NaN   \n",
       "1    Mexico city  19.432608  -99.133207            1         0      NaN   \n",
       "2        Unknown  15.478598  120.599741            4         0      NaN   \n",
       "3         Athens  37.983773   23.728157            1         0      NaN   \n",
       "4        Fukouka  33.580412  130.396361            1         0      NaN   \n",
       "\n",
       "  summary  crit1  crit2  crit3  doubtterr  alternative alternative_txt  \\\n",
       "0     NaN      1      1      1        0.0          NaN               .   \n",
       "1     NaN      1      1      1        0.0          NaN               .   \n",
       "2     NaN      1      1      1        0.0          NaN               .   \n",
       "3     NaN      1      1      1        0.0          NaN               .   \n",
       "4     NaN      1      1      1       -9.0          NaN               .   \n",
       "\n",
       "   multiple  success  suicide  attacktype1                 attacktype1_txt  \\\n",
       "0         0        1        0            1                   Assassination   \n",
       "1         0        1        0            6     Hostage Taking (Kidnapping)   \n",
       "2         0        1        0            1                   Assassination   \n",
       "3         0        1        0            3               Bombing/Explosion   \n",
       "4         0        1        0            7  Facility/Infrastructure Attack   \n",
       "\n",
       "   attacktype2 attacktype2_txt  attacktype3 attacktype3_txt  targtype1  \\\n",
       "0          NaN               .          NaN               .         14   \n",
       "1          NaN               .          NaN               .          7   \n",
       "2          NaN               .          NaN               .         10   \n",
       "3          NaN               .          NaN               .          7   \n",
       "4          NaN               .          NaN               .          7   \n",
       "\n",
       "                 targtype1_txt  targsubtype1  \\\n",
       "0  Private Citizens & Property          68.0   \n",
       "1      Government (Diplomatic)          45.0   \n",
       "2          Journalists & Media          54.0   \n",
       "3      Government (Diplomatic)          46.0   \n",
       "4      Government (Diplomatic)          46.0   \n",
       "\n",
       "                                    targsubtype1_txt  \\\n",
       "0                                     Named Civilian   \n",
       "1  Diplomatic Personnel (outside of embassy, cons...   \n",
       "2                    Radio Journalist/Staff/Facility   \n",
       "3                                  Embassy/Consulate   \n",
       "4                                  Embassy/Consulate   \n",
       "\n",
       "                         corp1                  target1  natlty1  \\\n",
       "0                          NaN             Julio Guzman     58.0   \n",
       "1  Belgian Ambassador Daughter  Nadine Chaval, daughter     21.0   \n",
       "2             Voice of America                 Employee    217.0   \n",
       "3                          NaN             U.S. Embassy    217.0   \n",
       "4                          NaN           U.S. Consulate    217.0   \n",
       "\n",
       "          natlty1_txt  targtype2 targtype2_txt  targsubtype2 targsubtype2_txt  \\\n",
       "0  Dominican Republic        NaN             .           NaN                .   \n",
       "1             Belgium        NaN             .           NaN                .   \n",
       "2       United States        NaN             .           NaN                .   \n",
       "3       United States        NaN             .           NaN                .   \n",
       "4       United States        NaN             .           NaN                .   \n",
       "\n",
       "  corp2 target2  natlty2 natlty2_txt  targtype3 targtype3_txt  targsubtype3  \\\n",
       "0   NaN     NaN      NaN           .        NaN             .           NaN   \n",
       "1   NaN     NaN      NaN           .        NaN             .           NaN   \n",
       "2   NaN     NaN      NaN           .        NaN             .           NaN   \n",
       "3   NaN     NaN      NaN           .        NaN             .           NaN   \n",
       "4   NaN     NaN      NaN           .        NaN             .           NaN   \n",
       "\n",
       "  targsubtype3_txt corp3 target3  natlty3 natlty3_txt  \\\n",
       "0                .   NaN     NaN      NaN           .   \n",
       "1                .   NaN     NaN      NaN           .   \n",
       "2                .   NaN     NaN      NaN           .   \n",
       "3                .   NaN     NaN      NaN           .   \n",
       "4                .   NaN     NaN      NaN           .   \n",
       "\n",
       "                                gname gsubname gname2 gsubname2 gname3  \\\n",
       "0                              MANO-D      NaN    NaN       NaN    NaN   \n",
       "1  23rd of September Communist League      NaN    NaN       NaN    NaN   \n",
       "2                             Unknown      NaN    NaN       NaN    NaN   \n",
       "3                             Unknown      NaN    NaN       NaN    NaN   \n",
       "4                             Unknown      NaN    NaN       NaN    NaN   \n",
       "\n",
       "   ingroup  ingroup2  ingroup3 gsubname3 motive  guncertain1  guncertain2  \\\n",
       "0     3629       NaN       NaN       NaN    NaN          0.0          NaN   \n",
       "1     3330       NaN       NaN       NaN    NaN          0.0          NaN   \n",
       "2       -9       NaN       NaN       NaN    NaN          0.0          NaN   \n",
       "3       -9       NaN       NaN       NaN    NaN          0.0          NaN   \n",
       "4       -9       NaN       NaN       NaN    NaN          0.0          NaN   \n",
       "\n",
       "   guncertain3  nperps  nperpcap  claimed  claimmode claimmode_txt  claim2  \\\n",
       "0          NaN     NaN       NaN      NaN        NaN             .     NaN   \n",
       "1          NaN     7.0       NaN      NaN        NaN             .     NaN   \n",
       "2          NaN     NaN       NaN      NaN        NaN             .     NaN   \n",
       "3          NaN     NaN       NaN      NaN        NaN             .     NaN   \n",
       "4          NaN     NaN       NaN      NaN        NaN             .     NaN   \n",
       "\n",
       "   claimmode2 claimmode2_txt  claim3  claimmode3 claimmode3_txt  compclaim  \\\n",
       "0         NaN              .     NaN         NaN              .        NaN   \n",
       "1         NaN              .     NaN         NaN              .        NaN   \n",
       "2         NaN              .     NaN         NaN              .        NaN   \n",
       "3         NaN              .     NaN         NaN              .        NaN   \n",
       "4         NaN              .     NaN         NaN              .        NaN   \n",
       "\n",
       "   weaptype1              weaptype1_txt  weapsubtype1        weapsubtype1_txt  \\\n",
       "0         13                    Unknown           NaN                       .   \n",
       "1         13                    Unknown           NaN                       .   \n",
       "2         13                    Unknown           NaN                       .   \n",
       "3          6  Explosives/Bombs/Dynamite          16.0  Unknown Explosive Type   \n",
       "4          8                 Incendiary           NaN                       .   \n",
       "\n",
       "   weaptype2 weaptype2_txt  weapsubtype2 weapsubtype2_txt  weaptype3  \\\n",
       "0        NaN             .           NaN                .        NaN   \n",
       "1        NaN             .           NaN                .        NaN   \n",
       "2        NaN             .           NaN                .        NaN   \n",
       "3        NaN             .           NaN                .        NaN   \n",
       "4        NaN             .           NaN                .        NaN   \n",
       "\n",
       "  weaptype3_txt  weapsubtype3 weapsubtype3_txt  weaptype4 weaptype4_txt  \\\n",
       "0             .           NaN                .        NaN             .   \n",
       "1             .           NaN                .        NaN             .   \n",
       "2             .           NaN                .        NaN             .   \n",
       "3             .           NaN                .        NaN             .   \n",
       "4             .           NaN                .        NaN             .   \n",
       "\n",
       "   weapsubtype4 weapsubtype4_txt  weapdetail  nkill  nkillus  nkillter  \\\n",
       "0           NaN                .         NaN    1.0      NaN       NaN   \n",
       "1           NaN                .         NaN    0.0      NaN       NaN   \n",
       "2           NaN                .         NaN    1.0      NaN       NaN   \n",
       "3           NaN                .   Explosive    NaN      NaN       NaN   \n",
       "4           NaN                .  Incendiary    NaN      NaN       NaN   \n",
       "\n",
       "   nwound  nwoundus  nwoundte  property  propextent propextent_txt  propvalue  \\\n",
       "0     0.0       NaN       NaN         0         NaN              .        NaN   \n",
       "1     0.0       NaN       NaN         0         NaN              .        NaN   \n",
       "2     0.0       NaN       NaN         0         NaN              .        NaN   \n",
       "3     NaN       NaN       NaN         1         NaN              .        NaN   \n",
       "4     NaN       NaN       NaN         1         NaN              .        NaN   \n",
       "\n",
       "  propcomment  ishostkid  nhostkid  nhostkidus  nhours  ndays divert  \\\n",
       "0         NaN        0.0       NaN         NaN     NaN    NaN    NaN   \n",
       "1         NaN        1.0       1.0         0.0     NaN    NaN    NaN   \n",
       "2         NaN        0.0       NaN         NaN     NaN    NaN    NaN   \n",
       "3         NaN        0.0       NaN         NaN     NaN    NaN    NaN   \n",
       "4         NaN        0.0       NaN         NaN     NaN    NaN    NaN   \n",
       "\n",
       "  kidhijcountry  ransom  ransomamt  ransomamtus  ransompaid  ransompaidus  \\\n",
       "0           NaN     0.0        NaN          NaN         NaN           NaN   \n",
       "1        Mexico     1.0   800000.0          NaN         NaN           NaN   \n",
       "2           NaN     0.0        NaN          NaN         NaN           NaN   \n",
       "3           NaN     0.0        NaN          NaN         NaN           NaN   \n",
       "4           NaN     0.0        NaN          NaN         NaN           NaN   \n",
       "\n",
       "  ransomnote  hostkidoutcome hostkidoutcome_txt  nreleased addnotes scite1  \\\n",
       "0        NaN             NaN                  .        NaN      NaN    NaN   \n",
       "1        NaN             NaN                  .        NaN      NaN    NaN   \n",
       "2        NaN             NaN                  .        NaN      NaN    NaN   \n",
       "3        NaN             NaN                  .        NaN      NaN    NaN   \n",
       "4        NaN             NaN                  .        NaN      NaN    NaN   \n",
       "\n",
       "  scite2 scite3 dbsource  INT_LOG  INT_IDEO  INT_MISC  INT_ANY related  \\\n",
       "0    NaN    NaN     PGIS        0         0         0        0     NaN   \n",
       "1    NaN    NaN     PGIS        0         1         1        1     NaN   \n",
       "2    NaN    NaN     PGIS       -9        -9         1        1     NaN   \n",
       "3    NaN    NaN     PGIS       -9        -9         1        1     NaN   \n",
       "4    NaN    NaN     PGIS       -9        -9         1        1     NaN   \n",
       "\n",
       "        date  \n",
       "0 1970-01-01  \n",
       "1 1970-01-01  \n",
       "2 1970-01-01  \n",
       "3 1970-01-01  \n",
       "4 1970-01-01  "
      ]
     },
     "execution_count": 5,
     "metadata": {},
     "output_type": "execute_result"
    }
   ],
   "source": [
    "gtd.head()"
   ]
  },
  {
   "cell_type": "code",
   "execution_count": 6,
   "metadata": {
    "collapsed": false
   },
   "outputs": [
    {
     "data": {
      "text/html": [
       "<div>\n",
       "<table border=\"1\" class=\"dataframe\">\n",
       "  <thead>\n",
       "    <tr style=\"text-align: right;\">\n",
       "      <th></th>\n",
       "      <th>eventid</th>\n",
       "      <th>date</th>\n",
       "      <th>iyear</th>\n",
       "      <th>imonth</th>\n",
       "      <th>iday</th>\n",
       "      <th>approxdate</th>\n",
       "      <th>extended</th>\n",
       "      <th>resolution</th>\n",
       "      <th>country</th>\n",
       "      <th>country_txt</th>\n",
       "      <th>region</th>\n",
       "      <th>region_txt</th>\n",
       "      <th>provstate</th>\n",
       "      <th>city</th>\n",
       "      <th>latitude</th>\n",
       "      <th>longitude</th>\n",
       "      <th>specificity</th>\n",
       "      <th>vicinity</th>\n",
       "      <th>location</th>\n",
       "      <th>summary</th>\n",
       "      <th>crit1</th>\n",
       "      <th>crit2</th>\n",
       "      <th>crit3</th>\n",
       "      <th>doubtterr</th>\n",
       "      <th>alternative</th>\n",
       "      <th>alternative_txt</th>\n",
       "      <th>multiple</th>\n",
       "      <th>success</th>\n",
       "      <th>suicide</th>\n",
       "      <th>attacktype1</th>\n",
       "      <th>attacktype1_txt</th>\n",
       "      <th>attacktype2</th>\n",
       "      <th>attacktype2_txt</th>\n",
       "      <th>attacktype3</th>\n",
       "      <th>attacktype3_txt</th>\n",
       "      <th>targtype1</th>\n",
       "      <th>targtype1_txt</th>\n",
       "      <th>targsubtype1</th>\n",
       "      <th>targsubtype1_txt</th>\n",
       "      <th>corp1</th>\n",
       "      <th>target1</th>\n",
       "      <th>natlty1</th>\n",
       "      <th>natlty1_txt</th>\n",
       "      <th>targtype2</th>\n",
       "      <th>targtype2_txt</th>\n",
       "      <th>targsubtype2</th>\n",
       "      <th>targsubtype2_txt</th>\n",
       "      <th>corp2</th>\n",
       "      <th>target2</th>\n",
       "      <th>natlty2</th>\n",
       "      <th>natlty2_txt</th>\n",
       "      <th>targtype3</th>\n",
       "      <th>targtype3_txt</th>\n",
       "      <th>targsubtype3</th>\n",
       "      <th>targsubtype3_txt</th>\n",
       "      <th>corp3</th>\n",
       "      <th>target3</th>\n",
       "      <th>natlty3</th>\n",
       "      <th>natlty3_txt</th>\n",
       "      <th>gname</th>\n",
       "      <th>gsubname</th>\n",
       "      <th>gname2</th>\n",
       "      <th>gsubname2</th>\n",
       "      <th>gname3</th>\n",
       "      <th>ingroup</th>\n",
       "      <th>ingroup2</th>\n",
       "      <th>ingroup3</th>\n",
       "      <th>gsubname3</th>\n",
       "      <th>motive</th>\n",
       "      <th>guncertain1</th>\n",
       "      <th>guncertain2</th>\n",
       "      <th>guncertain3</th>\n",
       "      <th>nperps</th>\n",
       "      <th>nperpcap</th>\n",
       "      <th>claimed</th>\n",
       "      <th>claimmode</th>\n",
       "      <th>claimmode_txt</th>\n",
       "      <th>claim2</th>\n",
       "      <th>claimmode2</th>\n",
       "      <th>claimmode2_txt</th>\n",
       "      <th>claim3</th>\n",
       "      <th>claimmode3</th>\n",
       "      <th>claimmode3_txt</th>\n",
       "      <th>compclaim</th>\n",
       "      <th>weaptype1</th>\n",
       "      <th>weaptype1_txt</th>\n",
       "      <th>weapsubtype1</th>\n",
       "      <th>weapsubtype1_txt</th>\n",
       "      <th>weaptype2</th>\n",
       "      <th>weaptype2_txt</th>\n",
       "      <th>weapsubtype2</th>\n",
       "      <th>weapsubtype2_txt</th>\n",
       "      <th>weaptype3</th>\n",
       "      <th>weaptype3_txt</th>\n",
       "      <th>weapsubtype3</th>\n",
       "      <th>weapsubtype3_txt</th>\n",
       "      <th>weaptype4</th>\n",
       "      <th>weaptype4_txt</th>\n",
       "      <th>weapsubtype4</th>\n",
       "      <th>weapsubtype4_txt</th>\n",
       "      <th>weapdetail</th>\n",
       "      <th>nkill</th>\n",
       "      <th>nkillus</th>\n",
       "      <th>nkillter</th>\n",
       "      <th>nwound</th>\n",
       "      <th>nwoundus</th>\n",
       "      <th>nwoundte</th>\n",
       "      <th>property</th>\n",
       "      <th>propextent</th>\n",
       "      <th>propextent_txt</th>\n",
       "      <th>propvalue</th>\n",
       "      <th>propcomment</th>\n",
       "      <th>ishostkid</th>\n",
       "      <th>nhostkid</th>\n",
       "      <th>nhostkidus</th>\n",
       "      <th>nhours</th>\n",
       "      <th>ndays</th>\n",
       "      <th>divert</th>\n",
       "      <th>kidhijcountry</th>\n",
       "      <th>ransom</th>\n",
       "      <th>ransomamt</th>\n",
       "      <th>ransomamtus</th>\n",
       "      <th>ransompaid</th>\n",
       "      <th>ransompaidus</th>\n",
       "      <th>ransomnote</th>\n",
       "      <th>hostkidoutcome</th>\n",
       "      <th>hostkidoutcome_txt</th>\n",
       "      <th>nreleased</th>\n",
       "      <th>addnotes</th>\n",
       "      <th>scite1</th>\n",
       "      <th>scite2</th>\n",
       "      <th>scite3</th>\n",
       "      <th>dbsource</th>\n",
       "      <th>INT_LOG</th>\n",
       "      <th>INT_IDEO</th>\n",
       "      <th>INT_MISC</th>\n",
       "      <th>INT_ANY</th>\n",
       "      <th>related</th>\n",
       "    </tr>\n",
       "  </thead>\n",
       "  <tbody>\n",
       "    <tr>\n",
       "      <th>0</th>\n",
       "      <td>197000000001</td>\n",
       "      <td>1970-01-01</td>\n",
       "      <td>1970</td>\n",
       "      <td>1</td>\n",
       "      <td>1</td>\n",
       "      <td>NaN</td>\n",
       "      <td>0</td>\n",
       "      <td>NaN</td>\n",
       "      <td>58</td>\n",
       "      <td>Dominican Republic</td>\n",
       "      <td>2</td>\n",
       "      <td>Central America &amp; Caribbean</td>\n",
       "      <td>NaN</td>\n",
       "      <td>Santo Domingo</td>\n",
       "      <td>18.456792</td>\n",
       "      <td>-69.951164</td>\n",
       "      <td>1</td>\n",
       "      <td>0</td>\n",
       "      <td>NaN</td>\n",
       "      <td>NaN</td>\n",
       "      <td>1</td>\n",
       "      <td>1</td>\n",
       "      <td>1</td>\n",
       "      <td>0.0</td>\n",
       "      <td>NaN</td>\n",
       "      <td>.</td>\n",
       "      <td>0</td>\n",
       "      <td>1</td>\n",
       "      <td>0</td>\n",
       "      <td>1</td>\n",
       "      <td>Assassination</td>\n",
       "      <td>NaN</td>\n",
       "      <td>.</td>\n",
       "      <td>NaN</td>\n",
       "      <td>.</td>\n",
       "      <td>14</td>\n",
       "      <td>Private Citizens &amp; Property</td>\n",
       "      <td>68.0</td>\n",
       "      <td>Named Civilian</td>\n",
       "      <td>NaN</td>\n",
       "      <td>Julio Guzman</td>\n",
       "      <td>58.0</td>\n",
       "      <td>Dominican Republic</td>\n",
       "      <td>NaN</td>\n",
       "      <td>.</td>\n",
       "      <td>NaN</td>\n",
       "      <td>.</td>\n",
       "      <td>NaN</td>\n",
       "      <td>NaN</td>\n",
       "      <td>NaN</td>\n",
       "      <td>.</td>\n",
       "      <td>NaN</td>\n",
       "      <td>.</td>\n",
       "      <td>NaN</td>\n",
       "      <td>.</td>\n",
       "      <td>NaN</td>\n",
       "      <td>NaN</td>\n",
       "      <td>NaN</td>\n",
       "      <td>.</td>\n",
       "      <td>MANO-D</td>\n",
       "      <td>NaN</td>\n",
       "      <td>NaN</td>\n",
       "      <td>NaN</td>\n",
       "      <td>NaN</td>\n",
       "      <td>3629</td>\n",
       "      <td>NaN</td>\n",
       "      <td>NaN</td>\n",
       "      <td>NaN</td>\n",
       "      <td>NaN</td>\n",
       "      <td>0.0</td>\n",
       "      <td>NaN</td>\n",
       "      <td>NaN</td>\n",
       "      <td>NaN</td>\n",
       "      <td>NaN</td>\n",
       "      <td>NaN</td>\n",
       "      <td>NaN</td>\n",
       "      <td>.</td>\n",
       "      <td>NaN</td>\n",
       "      <td>NaN</td>\n",
       "      <td>.</td>\n",
       "      <td>NaN</td>\n",
       "      <td>NaN</td>\n",
       "      <td>.</td>\n",
       "      <td>NaN</td>\n",
       "      <td>13</td>\n",
       "      <td>Unknown</td>\n",
       "      <td>NaN</td>\n",
       "      <td>.</td>\n",
       "      <td>NaN</td>\n",
       "      <td>.</td>\n",
       "      <td>NaN</td>\n",
       "      <td>.</td>\n",
       "      <td>NaN</td>\n",
       "      <td>.</td>\n",
       "      <td>NaN</td>\n",
       "      <td>.</td>\n",
       "      <td>NaN</td>\n",
       "      <td>.</td>\n",
       "      <td>NaN</td>\n",
       "      <td>.</td>\n",
       "      <td>NaN</td>\n",
       "      <td>1.0</td>\n",
       "      <td>NaN</td>\n",
       "      <td>NaN</td>\n",
       "      <td>0.0</td>\n",
       "      <td>NaN</td>\n",
       "      <td>NaN</td>\n",
       "      <td>0</td>\n",
       "      <td>NaN</td>\n",
       "      <td>.</td>\n",
       "      <td>NaN</td>\n",
       "      <td>NaN</td>\n",
       "      <td>0.0</td>\n",
       "      <td>NaN</td>\n",
       "      <td>NaN</td>\n",
       "      <td>NaN</td>\n",
       "      <td>NaN</td>\n",
       "      <td>NaN</td>\n",
       "      <td>NaN</td>\n",
       "      <td>0.0</td>\n",
       "      <td>NaN</td>\n",
       "      <td>NaN</td>\n",
       "      <td>NaN</td>\n",
       "      <td>NaN</td>\n",
       "      <td>NaN</td>\n",
       "      <td>NaN</td>\n",
       "      <td>.</td>\n",
       "      <td>NaN</td>\n",
       "      <td>NaN</td>\n",
       "      <td>NaN</td>\n",
       "      <td>NaN</td>\n",
       "      <td>NaN</td>\n",
       "      <td>PGIS</td>\n",
       "      <td>0</td>\n",
       "      <td>0</td>\n",
       "      <td>0</td>\n",
       "      <td>0</td>\n",
       "      <td>NaN</td>\n",
       "    </tr>\n",
       "    <tr>\n",
       "      <th>1</th>\n",
       "      <td>197000000002</td>\n",
       "      <td>1970-01-01</td>\n",
       "      <td>1970</td>\n",
       "      <td>1</td>\n",
       "      <td>1</td>\n",
       "      <td>NaN</td>\n",
       "      <td>0</td>\n",
       "      <td>NaN</td>\n",
       "      <td>130</td>\n",
       "      <td>Mexico</td>\n",
       "      <td>1</td>\n",
       "      <td>North America</td>\n",
       "      <td>NaN</td>\n",
       "      <td>Mexico city</td>\n",
       "      <td>19.432608</td>\n",
       "      <td>-99.133207</td>\n",
       "      <td>1</td>\n",
       "      <td>0</td>\n",
       "      <td>NaN</td>\n",
       "      <td>NaN</td>\n",
       "      <td>1</td>\n",
       "      <td>1</td>\n",
       "      <td>1</td>\n",
       "      <td>0.0</td>\n",
       "      <td>NaN</td>\n",
       "      <td>.</td>\n",
       "      <td>0</td>\n",
       "      <td>1</td>\n",
       "      <td>0</td>\n",
       "      <td>6</td>\n",
       "      <td>Hostage Taking (Kidnapping)</td>\n",
       "      <td>NaN</td>\n",
       "      <td>.</td>\n",
       "      <td>NaN</td>\n",
       "      <td>.</td>\n",
       "      <td>7</td>\n",
       "      <td>Government (Diplomatic)</td>\n",
       "      <td>45.0</td>\n",
       "      <td>Diplomatic Personnel (outside of embassy, cons...</td>\n",
       "      <td>Belgian Ambassador Daughter</td>\n",
       "      <td>Nadine Chaval, daughter</td>\n",
       "      <td>21.0</td>\n",
       "      <td>Belgium</td>\n",
       "      <td>NaN</td>\n",
       "      <td>.</td>\n",
       "      <td>NaN</td>\n",
       "      <td>.</td>\n",
       "      <td>NaN</td>\n",
       "      <td>NaN</td>\n",
       "      <td>NaN</td>\n",
       "      <td>.</td>\n",
       "      <td>NaN</td>\n",
       "      <td>.</td>\n",
       "      <td>NaN</td>\n",
       "      <td>.</td>\n",
       "      <td>NaN</td>\n",
       "      <td>NaN</td>\n",
       "      <td>NaN</td>\n",
       "      <td>.</td>\n",
       "      <td>23rd of September Communist League</td>\n",
       "      <td>NaN</td>\n",
       "      <td>NaN</td>\n",
       "      <td>NaN</td>\n",
       "      <td>NaN</td>\n",
       "      <td>3330</td>\n",
       "      <td>NaN</td>\n",
       "      <td>NaN</td>\n",
       "      <td>NaN</td>\n",
       "      <td>NaN</td>\n",
       "      <td>0.0</td>\n",
       "      <td>NaN</td>\n",
       "      <td>NaN</td>\n",
       "      <td>7.0</td>\n",
       "      <td>NaN</td>\n",
       "      <td>NaN</td>\n",
       "      <td>NaN</td>\n",
       "      <td>.</td>\n",
       "      <td>NaN</td>\n",
       "      <td>NaN</td>\n",
       "      <td>.</td>\n",
       "      <td>NaN</td>\n",
       "      <td>NaN</td>\n",
       "      <td>.</td>\n",
       "      <td>NaN</td>\n",
       "      <td>13</td>\n",
       "      <td>Unknown</td>\n",
       "      <td>NaN</td>\n",
       "      <td>.</td>\n",
       "      <td>NaN</td>\n",
       "      <td>.</td>\n",
       "      <td>NaN</td>\n",
       "      <td>.</td>\n",
       "      <td>NaN</td>\n",
       "      <td>.</td>\n",
       "      <td>NaN</td>\n",
       "      <td>.</td>\n",
       "      <td>NaN</td>\n",
       "      <td>.</td>\n",
       "      <td>NaN</td>\n",
       "      <td>.</td>\n",
       "      <td>NaN</td>\n",
       "      <td>0.0</td>\n",
       "      <td>NaN</td>\n",
       "      <td>NaN</td>\n",
       "      <td>0.0</td>\n",
       "      <td>NaN</td>\n",
       "      <td>NaN</td>\n",
       "      <td>0</td>\n",
       "      <td>NaN</td>\n",
       "      <td>.</td>\n",
       "      <td>NaN</td>\n",
       "      <td>NaN</td>\n",
       "      <td>1.0</td>\n",
       "      <td>1.0</td>\n",
       "      <td>0.0</td>\n",
       "      <td>NaN</td>\n",
       "      <td>NaN</td>\n",
       "      <td>NaN</td>\n",
       "      <td>Mexico</td>\n",
       "      <td>1.0</td>\n",
       "      <td>800000.0</td>\n",
       "      <td>NaN</td>\n",
       "      <td>NaN</td>\n",
       "      <td>NaN</td>\n",
       "      <td>NaN</td>\n",
       "      <td>NaN</td>\n",
       "      <td>.</td>\n",
       "      <td>NaN</td>\n",
       "      <td>NaN</td>\n",
       "      <td>NaN</td>\n",
       "      <td>NaN</td>\n",
       "      <td>NaN</td>\n",
       "      <td>PGIS</td>\n",
       "      <td>0</td>\n",
       "      <td>1</td>\n",
       "      <td>1</td>\n",
       "      <td>1</td>\n",
       "      <td>NaN</td>\n",
       "    </tr>\n",
       "    <tr>\n",
       "      <th>2</th>\n",
       "      <td>197001000001</td>\n",
       "      <td>1970-01-01</td>\n",
       "      <td>1970</td>\n",
       "      <td>1</td>\n",
       "      <td>1</td>\n",
       "      <td>NaN</td>\n",
       "      <td>0</td>\n",
       "      <td>NaN</td>\n",
       "      <td>160</td>\n",
       "      <td>Philippines</td>\n",
       "      <td>5</td>\n",
       "      <td>Southeast Asia</td>\n",
       "      <td>Tarlac</td>\n",
       "      <td>Unknown</td>\n",
       "      <td>15.478598</td>\n",
       "      <td>120.599741</td>\n",
       "      <td>4</td>\n",
       "      <td>0</td>\n",
       "      <td>NaN</td>\n",
       "      <td>NaN</td>\n",
       "      <td>1</td>\n",
       "      <td>1</td>\n",
       "      <td>1</td>\n",
       "      <td>0.0</td>\n",
       "      <td>NaN</td>\n",
       "      <td>.</td>\n",
       "      <td>0</td>\n",
       "      <td>1</td>\n",
       "      <td>0</td>\n",
       "      <td>1</td>\n",
       "      <td>Assassination</td>\n",
       "      <td>NaN</td>\n",
       "      <td>.</td>\n",
       "      <td>NaN</td>\n",
       "      <td>.</td>\n",
       "      <td>10</td>\n",
       "      <td>Journalists &amp; Media</td>\n",
       "      <td>54.0</td>\n",
       "      <td>Radio Journalist/Staff/Facility</td>\n",
       "      <td>Voice of America</td>\n",
       "      <td>Employee</td>\n",
       "      <td>217.0</td>\n",
       "      <td>United States</td>\n",
       "      <td>NaN</td>\n",
       "      <td>.</td>\n",
       "      <td>NaN</td>\n",
       "      <td>.</td>\n",
       "      <td>NaN</td>\n",
       "      <td>NaN</td>\n",
       "      <td>NaN</td>\n",
       "      <td>.</td>\n",
       "      <td>NaN</td>\n",
       "      <td>.</td>\n",
       "      <td>NaN</td>\n",
       "      <td>.</td>\n",
       "      <td>NaN</td>\n",
       "      <td>NaN</td>\n",
       "      <td>NaN</td>\n",
       "      <td>.</td>\n",
       "      <td>Unknown</td>\n",
       "      <td>NaN</td>\n",
       "      <td>NaN</td>\n",
       "      <td>NaN</td>\n",
       "      <td>NaN</td>\n",
       "      <td>-9</td>\n",
       "      <td>NaN</td>\n",
       "      <td>NaN</td>\n",
       "      <td>NaN</td>\n",
       "      <td>NaN</td>\n",
       "      <td>0.0</td>\n",
       "      <td>NaN</td>\n",
       "      <td>NaN</td>\n",
       "      <td>NaN</td>\n",
       "      <td>NaN</td>\n",
       "      <td>NaN</td>\n",
       "      <td>NaN</td>\n",
       "      <td>.</td>\n",
       "      <td>NaN</td>\n",
       "      <td>NaN</td>\n",
       "      <td>.</td>\n",
       "      <td>NaN</td>\n",
       "      <td>NaN</td>\n",
       "      <td>.</td>\n",
       "      <td>NaN</td>\n",
       "      <td>13</td>\n",
       "      <td>Unknown</td>\n",
       "      <td>NaN</td>\n",
       "      <td>.</td>\n",
       "      <td>NaN</td>\n",
       "      <td>.</td>\n",
       "      <td>NaN</td>\n",
       "      <td>.</td>\n",
       "      <td>NaN</td>\n",
       "      <td>.</td>\n",
       "      <td>NaN</td>\n",
       "      <td>.</td>\n",
       "      <td>NaN</td>\n",
       "      <td>.</td>\n",
       "      <td>NaN</td>\n",
       "      <td>.</td>\n",
       "      <td>NaN</td>\n",
       "      <td>1.0</td>\n",
       "      <td>NaN</td>\n",
       "      <td>NaN</td>\n",
       "      <td>0.0</td>\n",
       "      <td>NaN</td>\n",
       "      <td>NaN</td>\n",
       "      <td>0</td>\n",
       "      <td>NaN</td>\n",
       "      <td>.</td>\n",
       "      <td>NaN</td>\n",
       "      <td>NaN</td>\n",
       "      <td>0.0</td>\n",
       "      <td>NaN</td>\n",
       "      <td>NaN</td>\n",
       "      <td>NaN</td>\n",
       "      <td>NaN</td>\n",
       "      <td>NaN</td>\n",
       "      <td>NaN</td>\n",
       "      <td>0.0</td>\n",
       "      <td>NaN</td>\n",
       "      <td>NaN</td>\n",
       "      <td>NaN</td>\n",
       "      <td>NaN</td>\n",
       "      <td>NaN</td>\n",
       "      <td>NaN</td>\n",
       "      <td>.</td>\n",
       "      <td>NaN</td>\n",
       "      <td>NaN</td>\n",
       "      <td>NaN</td>\n",
       "      <td>NaN</td>\n",
       "      <td>NaN</td>\n",
       "      <td>PGIS</td>\n",
       "      <td>-9</td>\n",
       "      <td>-9</td>\n",
       "      <td>1</td>\n",
       "      <td>1</td>\n",
       "      <td>NaN</td>\n",
       "    </tr>\n",
       "    <tr>\n",
       "      <th>3</th>\n",
       "      <td>197001000002</td>\n",
       "      <td>1970-01-01</td>\n",
       "      <td>1970</td>\n",
       "      <td>1</td>\n",
       "      <td>1</td>\n",
       "      <td>NaN</td>\n",
       "      <td>0</td>\n",
       "      <td>NaN</td>\n",
       "      <td>78</td>\n",
       "      <td>Greece</td>\n",
       "      <td>8</td>\n",
       "      <td>Western Europe</td>\n",
       "      <td>Attica</td>\n",
       "      <td>Athens</td>\n",
       "      <td>37.983773</td>\n",
       "      <td>23.728157</td>\n",
       "      <td>1</td>\n",
       "      <td>0</td>\n",
       "      <td>NaN</td>\n",
       "      <td>NaN</td>\n",
       "      <td>1</td>\n",
       "      <td>1</td>\n",
       "      <td>1</td>\n",
       "      <td>0.0</td>\n",
       "      <td>NaN</td>\n",
       "      <td>.</td>\n",
       "      <td>0</td>\n",
       "      <td>1</td>\n",
       "      <td>0</td>\n",
       "      <td>3</td>\n",
       "      <td>Bombing/Explosion</td>\n",
       "      <td>NaN</td>\n",
       "      <td>.</td>\n",
       "      <td>NaN</td>\n",
       "      <td>.</td>\n",
       "      <td>7</td>\n",
       "      <td>Government (Diplomatic)</td>\n",
       "      <td>46.0</td>\n",
       "      <td>Embassy/Consulate</td>\n",
       "      <td>NaN</td>\n",
       "      <td>U.S. Embassy</td>\n",
       "      <td>217.0</td>\n",
       "      <td>United States</td>\n",
       "      <td>NaN</td>\n",
       "      <td>.</td>\n",
       "      <td>NaN</td>\n",
       "      <td>.</td>\n",
       "      <td>NaN</td>\n",
       "      <td>NaN</td>\n",
       "      <td>NaN</td>\n",
       "      <td>.</td>\n",
       "      <td>NaN</td>\n",
       "      <td>.</td>\n",
       "      <td>NaN</td>\n",
       "      <td>.</td>\n",
       "      <td>NaN</td>\n",
       "      <td>NaN</td>\n",
       "      <td>NaN</td>\n",
       "      <td>.</td>\n",
       "      <td>Unknown</td>\n",
       "      <td>NaN</td>\n",
       "      <td>NaN</td>\n",
       "      <td>NaN</td>\n",
       "      <td>NaN</td>\n",
       "      <td>-9</td>\n",
       "      <td>NaN</td>\n",
       "      <td>NaN</td>\n",
       "      <td>NaN</td>\n",
       "      <td>NaN</td>\n",
       "      <td>0.0</td>\n",
       "      <td>NaN</td>\n",
       "      <td>NaN</td>\n",
       "      <td>NaN</td>\n",
       "      <td>NaN</td>\n",
       "      <td>NaN</td>\n",
       "      <td>NaN</td>\n",
       "      <td>.</td>\n",
       "      <td>NaN</td>\n",
       "      <td>NaN</td>\n",
       "      <td>.</td>\n",
       "      <td>NaN</td>\n",
       "      <td>NaN</td>\n",
       "      <td>.</td>\n",
       "      <td>NaN</td>\n",
       "      <td>6</td>\n",
       "      <td>Explosives/Bombs/Dynamite</td>\n",
       "      <td>16.0</td>\n",
       "      <td>Unknown Explosive Type</td>\n",
       "      <td>NaN</td>\n",
       "      <td>.</td>\n",
       "      <td>NaN</td>\n",
       "      <td>.</td>\n",
       "      <td>NaN</td>\n",
       "      <td>.</td>\n",
       "      <td>NaN</td>\n",
       "      <td>.</td>\n",
       "      <td>NaN</td>\n",
       "      <td>.</td>\n",
       "      <td>NaN</td>\n",
       "      <td>.</td>\n",
       "      <td>Explosive</td>\n",
       "      <td>NaN</td>\n",
       "      <td>NaN</td>\n",
       "      <td>NaN</td>\n",
       "      <td>NaN</td>\n",
       "      <td>NaN</td>\n",
       "      <td>NaN</td>\n",
       "      <td>1</td>\n",
       "      <td>NaN</td>\n",
       "      <td>.</td>\n",
       "      <td>NaN</td>\n",
       "      <td>NaN</td>\n",
       "      <td>0.0</td>\n",
       "      <td>NaN</td>\n",
       "      <td>NaN</td>\n",
       "      <td>NaN</td>\n",
       "      <td>NaN</td>\n",
       "      <td>NaN</td>\n",
       "      <td>NaN</td>\n",
       "      <td>0.0</td>\n",
       "      <td>NaN</td>\n",
       "      <td>NaN</td>\n",
       "      <td>NaN</td>\n",
       "      <td>NaN</td>\n",
       "      <td>NaN</td>\n",
       "      <td>NaN</td>\n",
       "      <td>.</td>\n",
       "      <td>NaN</td>\n",
       "      <td>NaN</td>\n",
       "      <td>NaN</td>\n",
       "      <td>NaN</td>\n",
       "      <td>NaN</td>\n",
       "      <td>PGIS</td>\n",
       "      <td>-9</td>\n",
       "      <td>-9</td>\n",
       "      <td>1</td>\n",
       "      <td>1</td>\n",
       "      <td>NaN</td>\n",
       "    </tr>\n",
       "    <tr>\n",
       "      <th>4</th>\n",
       "      <td>197001000003</td>\n",
       "      <td>1970-01-01</td>\n",
       "      <td>1970</td>\n",
       "      <td>1</td>\n",
       "      <td>1</td>\n",
       "      <td>NaN</td>\n",
       "      <td>0</td>\n",
       "      <td>NaN</td>\n",
       "      <td>101</td>\n",
       "      <td>Japan</td>\n",
       "      <td>4</td>\n",
       "      <td>East Asia</td>\n",
       "      <td>NaN</td>\n",
       "      <td>Fukouka</td>\n",
       "      <td>33.580412</td>\n",
       "      <td>130.396361</td>\n",
       "      <td>1</td>\n",
       "      <td>0</td>\n",
       "      <td>NaN</td>\n",
       "      <td>NaN</td>\n",
       "      <td>1</td>\n",
       "      <td>1</td>\n",
       "      <td>1</td>\n",
       "      <td>-9.0</td>\n",
       "      <td>NaN</td>\n",
       "      <td>.</td>\n",
       "      <td>0</td>\n",
       "      <td>1</td>\n",
       "      <td>0</td>\n",
       "      <td>7</td>\n",
       "      <td>Facility/Infrastructure Attack</td>\n",
       "      <td>NaN</td>\n",
       "      <td>.</td>\n",
       "      <td>NaN</td>\n",
       "      <td>.</td>\n",
       "      <td>7</td>\n",
       "      <td>Government (Diplomatic)</td>\n",
       "      <td>46.0</td>\n",
       "      <td>Embassy/Consulate</td>\n",
       "      <td>NaN</td>\n",
       "      <td>U.S. Consulate</td>\n",
       "      <td>217.0</td>\n",
       "      <td>United States</td>\n",
       "      <td>NaN</td>\n",
       "      <td>.</td>\n",
       "      <td>NaN</td>\n",
       "      <td>.</td>\n",
       "      <td>NaN</td>\n",
       "      <td>NaN</td>\n",
       "      <td>NaN</td>\n",
       "      <td>.</td>\n",
       "      <td>NaN</td>\n",
       "      <td>.</td>\n",
       "      <td>NaN</td>\n",
       "      <td>.</td>\n",
       "      <td>NaN</td>\n",
       "      <td>NaN</td>\n",
       "      <td>NaN</td>\n",
       "      <td>.</td>\n",
       "      <td>Unknown</td>\n",
       "      <td>NaN</td>\n",
       "      <td>NaN</td>\n",
       "      <td>NaN</td>\n",
       "      <td>NaN</td>\n",
       "      <td>-9</td>\n",
       "      <td>NaN</td>\n",
       "      <td>NaN</td>\n",
       "      <td>NaN</td>\n",
       "      <td>NaN</td>\n",
       "      <td>0.0</td>\n",
       "      <td>NaN</td>\n",
       "      <td>NaN</td>\n",
       "      <td>NaN</td>\n",
       "      <td>NaN</td>\n",
       "      <td>NaN</td>\n",
       "      <td>NaN</td>\n",
       "      <td>.</td>\n",
       "      <td>NaN</td>\n",
       "      <td>NaN</td>\n",
       "      <td>.</td>\n",
       "      <td>NaN</td>\n",
       "      <td>NaN</td>\n",
       "      <td>.</td>\n",
       "      <td>NaN</td>\n",
       "      <td>8</td>\n",
       "      <td>Incendiary</td>\n",
       "      <td>NaN</td>\n",
       "      <td>.</td>\n",
       "      <td>NaN</td>\n",
       "      <td>.</td>\n",
       "      <td>NaN</td>\n",
       "      <td>.</td>\n",
       "      <td>NaN</td>\n",
       "      <td>.</td>\n",
       "      <td>NaN</td>\n",
       "      <td>.</td>\n",
       "      <td>NaN</td>\n",
       "      <td>.</td>\n",
       "      <td>NaN</td>\n",
       "      <td>.</td>\n",
       "      <td>Incendiary</td>\n",
       "      <td>NaN</td>\n",
       "      <td>NaN</td>\n",
       "      <td>NaN</td>\n",
       "      <td>NaN</td>\n",
       "      <td>NaN</td>\n",
       "      <td>NaN</td>\n",
       "      <td>1</td>\n",
       "      <td>NaN</td>\n",
       "      <td>.</td>\n",
       "      <td>NaN</td>\n",
       "      <td>NaN</td>\n",
       "      <td>0.0</td>\n",
       "      <td>NaN</td>\n",
       "      <td>NaN</td>\n",
       "      <td>NaN</td>\n",
       "      <td>NaN</td>\n",
       "      <td>NaN</td>\n",
       "      <td>NaN</td>\n",
       "      <td>0.0</td>\n",
       "      <td>NaN</td>\n",
       "      <td>NaN</td>\n",
       "      <td>NaN</td>\n",
       "      <td>NaN</td>\n",
       "      <td>NaN</td>\n",
       "      <td>NaN</td>\n",
       "      <td>.</td>\n",
       "      <td>NaN</td>\n",
       "      <td>NaN</td>\n",
       "      <td>NaN</td>\n",
       "      <td>NaN</td>\n",
       "      <td>NaN</td>\n",
       "      <td>PGIS</td>\n",
       "      <td>-9</td>\n",
       "      <td>-9</td>\n",
       "      <td>1</td>\n",
       "      <td>1</td>\n",
       "      <td>NaN</td>\n",
       "    </tr>\n",
       "  </tbody>\n",
       "</table>\n",
       "</div>"
      ],
      "text/plain": [
       "        eventid       date  iyear  imonth  iday approxdate  extended  \\\n",
       "0  197000000001 1970-01-01   1970       1     1        NaN         0   \n",
       "1  197000000002 1970-01-01   1970       1     1        NaN         0   \n",
       "2  197001000001 1970-01-01   1970       1     1        NaN         0   \n",
       "3  197001000002 1970-01-01   1970       1     1        NaN         0   \n",
       "4  197001000003 1970-01-01   1970       1     1        NaN         0   \n",
       "\n",
       "  resolution  country         country_txt  region  \\\n",
       "0        NaN       58  Dominican Republic       2   \n",
       "1        NaN      130              Mexico       1   \n",
       "2        NaN      160         Philippines       5   \n",
       "3        NaN       78              Greece       8   \n",
       "4        NaN      101               Japan       4   \n",
       "\n",
       "                    region_txt provstate           city   latitude  \\\n",
       "0  Central America & Caribbean       NaN  Santo Domingo  18.456792   \n",
       "1                North America       NaN    Mexico city  19.432608   \n",
       "2               Southeast Asia    Tarlac        Unknown  15.478598   \n",
       "3               Western Europe    Attica         Athens  37.983773   \n",
       "4                    East Asia       NaN        Fukouka  33.580412   \n",
       "\n",
       "    longitude  specificity  vicinity location summary  crit1  crit2  crit3  \\\n",
       "0  -69.951164            1         0      NaN     NaN      1      1      1   \n",
       "1  -99.133207            1         0      NaN     NaN      1      1      1   \n",
       "2  120.599741            4         0      NaN     NaN      1      1      1   \n",
       "3   23.728157            1         0      NaN     NaN      1      1      1   \n",
       "4  130.396361            1         0      NaN     NaN      1      1      1   \n",
       "\n",
       "   doubtterr  alternative alternative_txt  multiple  success  suicide  \\\n",
       "0        0.0          NaN               .         0        1        0   \n",
       "1        0.0          NaN               .         0        1        0   \n",
       "2        0.0          NaN               .         0        1        0   \n",
       "3        0.0          NaN               .         0        1        0   \n",
       "4       -9.0          NaN               .         0        1        0   \n",
       "\n",
       "   attacktype1                 attacktype1_txt  attacktype2 attacktype2_txt  \\\n",
       "0            1                   Assassination          NaN               .   \n",
       "1            6     Hostage Taking (Kidnapping)          NaN               .   \n",
       "2            1                   Assassination          NaN               .   \n",
       "3            3               Bombing/Explosion          NaN               .   \n",
       "4            7  Facility/Infrastructure Attack          NaN               .   \n",
       "\n",
       "   attacktype3 attacktype3_txt  targtype1                targtype1_txt  \\\n",
       "0          NaN               .         14  Private Citizens & Property   \n",
       "1          NaN               .          7      Government (Diplomatic)   \n",
       "2          NaN               .         10          Journalists & Media   \n",
       "3          NaN               .          7      Government (Diplomatic)   \n",
       "4          NaN               .          7      Government (Diplomatic)   \n",
       "\n",
       "   targsubtype1                                   targsubtype1_txt  \\\n",
       "0          68.0                                     Named Civilian   \n",
       "1          45.0  Diplomatic Personnel (outside of embassy, cons...   \n",
       "2          54.0                    Radio Journalist/Staff/Facility   \n",
       "3          46.0                                  Embassy/Consulate   \n",
       "4          46.0                                  Embassy/Consulate   \n",
       "\n",
       "                         corp1                  target1  natlty1  \\\n",
       "0                          NaN             Julio Guzman     58.0   \n",
       "1  Belgian Ambassador Daughter  Nadine Chaval, daughter     21.0   \n",
       "2             Voice of America                 Employee    217.0   \n",
       "3                          NaN             U.S. Embassy    217.0   \n",
       "4                          NaN           U.S. Consulate    217.0   \n",
       "\n",
       "          natlty1_txt  targtype2 targtype2_txt  targsubtype2 targsubtype2_txt  \\\n",
       "0  Dominican Republic        NaN             .           NaN                .   \n",
       "1             Belgium        NaN             .           NaN                .   \n",
       "2       United States        NaN             .           NaN                .   \n",
       "3       United States        NaN             .           NaN                .   \n",
       "4       United States        NaN             .           NaN                .   \n",
       "\n",
       "  corp2 target2  natlty2 natlty2_txt  targtype3 targtype3_txt  targsubtype3  \\\n",
       "0   NaN     NaN      NaN           .        NaN             .           NaN   \n",
       "1   NaN     NaN      NaN           .        NaN             .           NaN   \n",
       "2   NaN     NaN      NaN           .        NaN             .           NaN   \n",
       "3   NaN     NaN      NaN           .        NaN             .           NaN   \n",
       "4   NaN     NaN      NaN           .        NaN             .           NaN   \n",
       "\n",
       "  targsubtype3_txt corp3 target3  natlty3 natlty3_txt  \\\n",
       "0                .   NaN     NaN      NaN           .   \n",
       "1                .   NaN     NaN      NaN           .   \n",
       "2                .   NaN     NaN      NaN           .   \n",
       "3                .   NaN     NaN      NaN           .   \n",
       "4                .   NaN     NaN      NaN           .   \n",
       "\n",
       "                                gname gsubname gname2 gsubname2 gname3  \\\n",
       "0                              MANO-D      NaN    NaN       NaN    NaN   \n",
       "1  23rd of September Communist League      NaN    NaN       NaN    NaN   \n",
       "2                             Unknown      NaN    NaN       NaN    NaN   \n",
       "3                             Unknown      NaN    NaN       NaN    NaN   \n",
       "4                             Unknown      NaN    NaN       NaN    NaN   \n",
       "\n",
       "   ingroup  ingroup2  ingroup3 gsubname3 motive  guncertain1  guncertain2  \\\n",
       "0     3629       NaN       NaN       NaN    NaN          0.0          NaN   \n",
       "1     3330       NaN       NaN       NaN    NaN          0.0          NaN   \n",
       "2       -9       NaN       NaN       NaN    NaN          0.0          NaN   \n",
       "3       -9       NaN       NaN       NaN    NaN          0.0          NaN   \n",
       "4       -9       NaN       NaN       NaN    NaN          0.0          NaN   \n",
       "\n",
       "   guncertain3  nperps  nperpcap  claimed  claimmode claimmode_txt  claim2  \\\n",
       "0          NaN     NaN       NaN      NaN        NaN             .     NaN   \n",
       "1          NaN     7.0       NaN      NaN        NaN             .     NaN   \n",
       "2          NaN     NaN       NaN      NaN        NaN             .     NaN   \n",
       "3          NaN     NaN       NaN      NaN        NaN             .     NaN   \n",
       "4          NaN     NaN       NaN      NaN        NaN             .     NaN   \n",
       "\n",
       "   claimmode2 claimmode2_txt  claim3  claimmode3 claimmode3_txt  compclaim  \\\n",
       "0         NaN              .     NaN         NaN              .        NaN   \n",
       "1         NaN              .     NaN         NaN              .        NaN   \n",
       "2         NaN              .     NaN         NaN              .        NaN   \n",
       "3         NaN              .     NaN         NaN              .        NaN   \n",
       "4         NaN              .     NaN         NaN              .        NaN   \n",
       "\n",
       "   weaptype1              weaptype1_txt  weapsubtype1        weapsubtype1_txt  \\\n",
       "0         13                    Unknown           NaN                       .   \n",
       "1         13                    Unknown           NaN                       .   \n",
       "2         13                    Unknown           NaN                       .   \n",
       "3          6  Explosives/Bombs/Dynamite          16.0  Unknown Explosive Type   \n",
       "4          8                 Incendiary           NaN                       .   \n",
       "\n",
       "   weaptype2 weaptype2_txt  weapsubtype2 weapsubtype2_txt  weaptype3  \\\n",
       "0        NaN             .           NaN                .        NaN   \n",
       "1        NaN             .           NaN                .        NaN   \n",
       "2        NaN             .           NaN                .        NaN   \n",
       "3        NaN             .           NaN                .        NaN   \n",
       "4        NaN             .           NaN                .        NaN   \n",
       "\n",
       "  weaptype3_txt  weapsubtype3 weapsubtype3_txt  weaptype4 weaptype4_txt  \\\n",
       "0             .           NaN                .        NaN             .   \n",
       "1             .           NaN                .        NaN             .   \n",
       "2             .           NaN                .        NaN             .   \n",
       "3             .           NaN                .        NaN             .   \n",
       "4             .           NaN                .        NaN             .   \n",
       "\n",
       "   weapsubtype4 weapsubtype4_txt  weapdetail  nkill  nkillus  nkillter  \\\n",
       "0           NaN                .         NaN    1.0      NaN       NaN   \n",
       "1           NaN                .         NaN    0.0      NaN       NaN   \n",
       "2           NaN                .         NaN    1.0      NaN       NaN   \n",
       "3           NaN                .   Explosive    NaN      NaN       NaN   \n",
       "4           NaN                .  Incendiary    NaN      NaN       NaN   \n",
       "\n",
       "   nwound  nwoundus  nwoundte  property  propextent propextent_txt  propvalue  \\\n",
       "0     0.0       NaN       NaN         0         NaN              .        NaN   \n",
       "1     0.0       NaN       NaN         0         NaN              .        NaN   \n",
       "2     0.0       NaN       NaN         0         NaN              .        NaN   \n",
       "3     NaN       NaN       NaN         1         NaN              .        NaN   \n",
       "4     NaN       NaN       NaN         1         NaN              .        NaN   \n",
       "\n",
       "  propcomment  ishostkid  nhostkid  nhostkidus  nhours  ndays divert  \\\n",
       "0         NaN        0.0       NaN         NaN     NaN    NaN    NaN   \n",
       "1         NaN        1.0       1.0         0.0     NaN    NaN    NaN   \n",
       "2         NaN        0.0       NaN         NaN     NaN    NaN    NaN   \n",
       "3         NaN        0.0       NaN         NaN     NaN    NaN    NaN   \n",
       "4         NaN        0.0       NaN         NaN     NaN    NaN    NaN   \n",
       "\n",
       "  kidhijcountry  ransom  ransomamt  ransomamtus  ransompaid  ransompaidus  \\\n",
       "0           NaN     0.0        NaN          NaN         NaN           NaN   \n",
       "1        Mexico     1.0   800000.0          NaN         NaN           NaN   \n",
       "2           NaN     0.0        NaN          NaN         NaN           NaN   \n",
       "3           NaN     0.0        NaN          NaN         NaN           NaN   \n",
       "4           NaN     0.0        NaN          NaN         NaN           NaN   \n",
       "\n",
       "  ransomnote  hostkidoutcome hostkidoutcome_txt  nreleased addnotes scite1  \\\n",
       "0        NaN             NaN                  .        NaN      NaN    NaN   \n",
       "1        NaN             NaN                  .        NaN      NaN    NaN   \n",
       "2        NaN             NaN                  .        NaN      NaN    NaN   \n",
       "3        NaN             NaN                  .        NaN      NaN    NaN   \n",
       "4        NaN             NaN                  .        NaN      NaN    NaN   \n",
       "\n",
       "  scite2 scite3 dbsource  INT_LOG  INT_IDEO  INT_MISC  INT_ANY related  \n",
       "0    NaN    NaN     PGIS        0         0         0        0     NaN  \n",
       "1    NaN    NaN     PGIS        0         1         1        1     NaN  \n",
       "2    NaN    NaN     PGIS       -9        -9         1        1     NaN  \n",
       "3    NaN    NaN     PGIS       -9        -9         1        1     NaN  \n",
       "4    NaN    NaN     PGIS       -9        -9         1        1     NaN  "
      ]
     },
     "execution_count": 6,
     "metadata": {},
     "output_type": "execute_result"
    }
   ],
   "source": [
    "date = gtd['date']\n",
    "gtd.drop(labels=['date'], axis=1,inplace = True)\n",
    "gtd.insert(1, 'date', date)\n",
    "gtd.head()"
   ]
  },
  {
   "cell_type": "code",
   "execution_count": 7,
   "metadata": {
    "collapsed": true
   },
   "outputs": [],
   "source": [
    "gtd.replace(to_replace=\".\", value = 'NAN', inplace= True)"
   ]
  },
  {
   "cell_type": "code",
   "execution_count": 8,
   "metadata": {
    "collapsed": false
   },
   "outputs": [],
   "source": [
    "gtd.rename(columns={'eventid':'id', 'iyear':'year', 'imonth':'month', 'iday':'day', 'provstate':'state', 'targtype1_txt':'target',\n",
    "             'weaptype1_txt':'weapon', 'nkill':'dead', 'nwound':'injured','attacktype1_txt':'attack_type'},inplace=True)"
   ]
  },
  {
   "cell_type": "code",
   "execution_count": 10,
   "metadata": {
    "collapsed": false,
    "scrolled": false
   },
   "outputs": [
    {
     "name": "stdout",
     "output_type": "stream",
     "text": [
      "missing values \n",
      "id                         0\n",
      "date                       0\n",
      "year                       0\n",
      "month                      0\n",
      "day                        0\n",
      "approxdate            152016\n",
      "extended                   0\n",
      "resolution            153270\n",
      "country                    0\n",
      "country_txt                0\n",
      "region                     0\n",
      "region_txt                 0\n",
      "state                  14520\n",
      "city                     446\n",
      "latitude                4519\n",
      "longitude               4519\n",
      "specificity                0\n",
      "vicinity                   0\n",
      "location              114561\n",
      "summary                66140\n",
      "crit1                      0\n",
      "crit2                      0\n",
      "crit3                      0\n",
      "doubtterr                  1\n",
      "alternative           132536\n",
      "alternative_txt            0\n",
      "multiple                   0\n",
      "success                    0\n",
      "suicide                    0\n",
      "attacktype1                0\n",
      "                       ...  \n",
      "propextent            100420\n",
      "propextent_txt             0\n",
      "propvalue             125460\n",
      "propcomment           107350\n",
      "ishostkid                178\n",
      "nhostkid              145504\n",
      "nhostkidus            145559\n",
      "nhours                153470\n",
      "ndays                 150190\n",
      "divert                156483\n",
      "kidhijcountry         153482\n",
      "ransom                 81680\n",
      "ransomamt             155577\n",
      "ransomamtus           156361\n",
      "ransompaid            156149\n",
      "ransompaidus          156370\n",
      "ransomnote            156351\n",
      "hostkidoutcome        148087\n",
      "hostkidoutcome_txt         0\n",
      "nreleased             148677\n",
      "addnotes              134848\n",
      "scite1                 66330\n",
      "scite2                 95611\n",
      "scite3                122640\n",
      "dbsource                   0\n",
      "INT_LOG                    0\n",
      "INT_IDEO                   0\n",
      "INT_MISC                   0\n",
      "INT_ANY                    0\n",
      "related               136350\n",
      "dtype: int64\n",
      "dataframe types \n",
      "id                             int64\n",
      "date                  datetime64[ns]\n",
      "year                           int64\n",
      "month                          int64\n",
      "day                            int64\n",
      "approxdate                    object\n",
      "extended                       int64\n",
      "resolution                    object\n",
      "country                        int64\n",
      "country_txt                   object\n",
      "region                         int64\n",
      "region_txt                    object\n",
      "state                         object\n",
      "city                          object\n",
      "latitude                     float64\n",
      "longitude                    float64\n",
      "specificity                    int64\n",
      "vicinity                       int64\n",
      "location                      object\n",
      "summary                       object\n",
      "crit1                          int64\n",
      "crit2                          int64\n",
      "crit3                          int64\n",
      "doubtterr                    float64\n",
      "alternative                  float64\n",
      "alternative_txt               object\n",
      "multiple                       int64\n",
      "success                        int64\n",
      "suicide                        int64\n",
      "attacktype1                    int64\n",
      "                           ...      \n",
      "propextent                   float64\n",
      "propextent_txt                object\n",
      "propvalue                    float64\n",
      "propcomment                   object\n",
      "ishostkid                    float64\n",
      "nhostkid                     float64\n",
      "nhostkidus                   float64\n",
      "nhours                       float64\n",
      "ndays                        float64\n",
      "divert                        object\n",
      "kidhijcountry                 object\n",
      "ransom                       float64\n",
      "ransomamt                    float64\n",
      "ransomamtus                  float64\n",
      "ransompaid                   float64\n",
      "ransompaidus                 float64\n",
      "ransomnote                    object\n",
      "hostkidoutcome               float64\n",
      "hostkidoutcome_txt            object\n",
      "nreleased                    float64\n",
      "addnotes                      object\n",
      "scite1                        object\n",
      "scite2                        object\n",
      "scite3                        object\n",
      "dbsource                      object\n",
      "INT_LOG                        int64\n",
      "INT_IDEO                       int64\n",
      "INT_MISC                       int64\n",
      "INT_ANY                        int64\n",
      "related                       object\n",
      "dtype: object\n",
      "dataframe shape \n",
      "(156772, 138)\n",
      "dataframe describe \n",
      "                 id           year          month            day  \\\n",
      "count  1.567720e+05  156772.000000  156772.000000  156772.000000   \n",
      "mean   2.000541e+11    2000.474083       6.484812      15.460918   \n",
      "std    1.298283e+09      12.982397       3.391967       8.805852   \n",
      "min    1.970000e+11    1970.000000       1.000000       1.000000   \n",
      "25%    1.989082e+11    1989.000000       4.000000       8.000000   \n",
      "50%    2.005071e+11    2005.000000       6.000000      15.000000   \n",
      "75%    2.013060e+11    2013.000000       9.000000      23.000000   \n",
      "max    2.015123e+11    2015.000000      12.000000      31.000000   \n",
      "\n",
      "            extended        country         region       latitude  \\\n",
      "count  156772.000000  156772.000000  156772.000000  152253.000000   \n",
      "mean        0.041347     133.087401       6.970097      23.190988   \n",
      "std         0.199091     113.946290       2.967803      19.220723   \n",
      "min         0.000000       4.000000       1.000000     -53.154613   \n",
      "25%         0.000000      69.000000       5.000000      10.756961   \n",
      "50%         0.000000     101.000000       6.000000      31.285506   \n",
      "75%         0.000000     160.000000      10.000000      34.842222   \n",
      "max         1.000000    1004.000000      12.000000      74.633553   \n",
      "\n",
      "           longitude    specificity       vicinity          crit1  \\\n",
      "count  152253.000000  156772.000000  156772.000000  156772.000000   \n",
      "mean       24.210467       1.452632       0.067423       0.988327   \n",
      "std        59.900831       1.016971       0.289041       0.107410   \n",
      "min      -176.176447       1.000000      -9.000000       0.000000   \n",
      "25%        -1.929857       1.000000       0.000000       1.000000   \n",
      "50%        41.919647       1.000000       0.000000       1.000000   \n",
      "75%        68.416974       1.000000       0.000000       1.000000   \n",
      "max       179.366667       5.000000       1.000000       1.000000   \n",
      "\n",
      "               crit2          crit3      doubtterr   alternative  \\\n",
      "count  156772.000000  156772.000000  156771.000000  24236.000000   \n",
      "mean        0.992690       0.882919      -0.636897      1.298935   \n",
      "std         0.085186       0.321518       2.621422      0.682270   \n",
      "min         0.000000       0.000000      -9.000000      1.000000   \n",
      "25%         1.000000       1.000000       0.000000      1.000000   \n",
      "50%         1.000000       1.000000       0.000000      1.000000   \n",
      "75%         1.000000       1.000000       0.000000      1.000000   \n",
      "max         1.000000       1.000000       1.000000      5.000000   \n",
      "\n",
      "            multiple        success        suicide    attacktype1  \\\n",
      "count  156772.000000  156772.000000  156772.000000  156772.000000   \n",
      "mean        0.130374       0.903612       0.030433       3.187081   \n",
      "std         0.336716       0.295124       0.171775       1.870064   \n",
      "min         0.000000       0.000000       0.000000       1.000000   \n",
      "25%         0.000000       1.000000       0.000000       2.000000   \n",
      "50%         0.000000       1.000000       0.000000       3.000000   \n",
      "75%         0.000000       1.000000       0.000000       3.000000   \n",
      "max         1.000000       1.000000       1.000000       9.000000   \n",
      "\n",
      "       attacktype2  attacktype3      targtype1   targsubtype1        natlty1  \\\n",
      "count  4966.000000   312.000000  156772.000000  148617.000000  155544.000000   \n",
      "mean      3.615989     4.884615       8.305112      46.654885     127.635434   \n",
      "std       2.214695     2.310222       6.642518      31.108047      87.606000   \n",
      "min       1.000000     1.000000       1.000000       1.000000       4.000000   \n",
      "25%       2.000000     2.000000       3.000000      22.000000      78.000000   \n",
      "50%       2.000000     6.000000       4.000000      34.000000     104.000000   \n",
      "75%       6.000000     7.000000      14.000000      74.000000     177.000000   \n",
      "max       9.000000     8.000000      22.000000     111.000000    1004.000000   \n",
      "\n",
      "         targtype2  targsubtype2      natlty2   targtype3  targsubtype3  \\\n",
      "count  8909.000000   8469.000000  8600.000000  932.000000    860.000000   \n",
      "mean     10.117858     54.622624   130.115930    9.798283     54.862791   \n",
      "std       5.764911     25.830595   122.714115    5.835194     26.779003   \n",
      "min       1.000000      1.000000     4.000000    1.000000      1.000000   \n",
      "25%       4.000000     29.000000    92.000000    3.000000     25.000000   \n",
      "50%      14.000000     67.000000    97.000000   14.000000     67.000000   \n",
      "75%      14.000000     69.000000   182.000000   14.000000     73.000000   \n",
      "max      22.000000    111.000000  1004.000000   22.000000    109.000000   \n",
      "\n",
      "           natlty3        ingroup      ingroup2      ingroup3    guncertain1  \\\n",
      "count   904.000000  156772.000000   1219.000000    164.000000  156394.000000   \n",
      "mean    139.287611    4475.847071  19255.760459  19952.298780       0.089454   \n",
      "std     152.473926   10484.350060  15913.313956  14335.366422       0.285398   \n",
      "min       4.000000      -9.000000     -9.000000     -9.000000       0.000000   \n",
      "25%      74.000000      -9.000000    838.000000   4292.000000       0.000000   \n",
      "50%     101.000000     359.000000  20193.000000  20273.000000       0.000000   \n",
      "75%     182.000000     652.000000  40021.000000  30227.000000       0.000000   \n",
      "max    1004.000000  100047.000000  50011.000000  40486.000000       1.000000   \n",
      "\n",
      "       guncertain2  guncertain3        nperps      nperpcap       claimed  \\\n",
      "count  1162.000000   160.000000  85640.000000  87262.000000  90631.000000   \n",
      "mean      0.286575     0.262500    -61.504437     -1.572345     -0.001037   \n",
      "std       0.452356     0.441374    243.824221     13.099647      1.210258   \n",
      "min       0.000000     0.000000    -99.000000    -99.000000     -9.000000   \n",
      "25%       0.000000     0.000000    -99.000000      0.000000      0.000000   \n",
      "50%       0.000000     0.000000    -99.000000      0.000000      0.000000   \n",
      "75%       1.000000     1.000000      1.000000      0.000000      0.000000   \n",
      "max       1.000000     1.000000  25000.000000    406.000000      2.000000   \n",
      "\n",
      "          claimmode       claim2  claimmode2      claim3  claimmode3  \\\n",
      "count  13276.000000  1095.000000  405.000000  158.000000   76.000000   \n",
      "mean       7.019434     0.234703    7.387654    0.468354    7.552632   \n",
      "std        2.706719     1.223132    2.990140    0.500584    3.052408   \n",
      "min        0.000000    -9.000000    1.000000    0.000000    1.000000   \n",
      "25%        5.000000     0.000000    7.000000    0.000000    7.000000   \n",
      "50%        8.000000     0.000000    8.000000    0.000000    9.000000   \n",
      "75%       10.000000     1.000000   10.000000    1.000000   10.000000   \n",
      "max       10.000000     1.000000   10.000000    1.000000   10.000000   \n",
      "\n",
      "         compclaim      weaptype1   weapsubtype1     weaptype2  weapsubtype2  \\\n",
      "count  4609.000000  156772.000000  138865.000000  10413.000000   9295.000000   \n",
      "mean     -6.651117       6.408587      10.949519      6.626909     10.591716   \n",
      "std       4.023720       2.130785       6.438986      2.085466      7.492221   \n",
      "min      -9.000000       1.000000       1.000000      1.000000      1.000000   \n",
      "25%      -9.000000       5.000000       5.000000      5.000000      5.000000   \n",
      "50%      -9.000000       6.000000      12.000000      6.000000      7.000000   \n",
      "75%       0.000000       6.000000      16.000000      8.000000     18.000000   \n",
      "max       1.000000      13.000000      29.000000     13.000000     28.000000   \n",
      "\n",
      "         weaptype3  weapsubtype3  weaptype4  weapsubtype4           dead  \\\n",
      "count  1432.000000   1306.000000  74.000000     71.000000  147827.000000   \n",
      "mean      6.804469     11.426493   6.243243     10.788732       2.359237   \n",
      "std       2.097760      8.205943   1.497128      8.146718      11.421270   \n",
      "min       2.000000      1.000000   5.000000      2.000000       0.000000   \n",
      "25%       5.000000      4.000000   5.000000      3.000000       0.000000   \n",
      "50%       6.000000      7.000000   6.000000      8.000000       0.000000   \n",
      "75%       8.000000     19.000000   6.000000     16.000000       2.000000   \n",
      "max      13.000000     28.000000  12.000000     28.000000    1500.000000   \n",
      "\n",
      "            nkillus      nkillter        injured      nwoundus      nwoundte  \\\n",
      "count  92315.000000  90384.000000  142572.000000  92066.000000  88462.000000   \n",
      "mean       0.056275      0.419964       3.089926      0.045587      0.081583   \n",
      "std        6.391723      3.966899      22.722313      3.440730      1.357706   \n",
      "min        0.000000      0.000000       0.000000      0.000000      0.000000   \n",
      "25%        0.000000      0.000000       0.000000      0.000000      0.000000   \n",
      "50%        0.000000      0.000000       0.000000      0.000000      0.000000   \n",
      "75%        0.000000      0.000000       2.000000      0.000000      0.000000   \n",
      "max     1357.500000    500.000000    5500.000000    751.000000    200.000000   \n",
      "\n",
      "            property    propextent     propvalue      ishostkid      nhostkid  \\\n",
      "count  156772.000000  56352.000000  3.131200e+04  156594.000000  11268.000000   \n",
      "mean       -0.434051      3.302190  2.496208e+05       0.060060      3.962549   \n",
      "std         3.031945      0.493053  1.730076e+07       0.418836    211.671702   \n",
      "min        -9.000000      1.000000 -9.900000e+01      -9.000000    -99.000000   \n",
      "25%         0.000000      3.000000 -9.900000e+01       0.000000      1.000000   \n",
      "50%         1.000000      3.000000 -9.900000e+01       0.000000      1.000000   \n",
      "75%         1.000000      4.000000  5.000000e+03       0.000000      4.000000   \n",
      "max         1.000000      4.000000  2.700000e+09       1.000000  17000.000000   \n",
      "\n",
      "         nhostkidus       nhours        ndays        ransom     ransomamt  \\\n",
      "count  11213.000000  3302.000000  6582.000000  75092.000000  1.195000e+03   \n",
      "mean      -0.392402   -37.322229   -30.865846     -0.143664  3.320127e+06   \n",
      "std        7.189533    87.837036   113.108909      1.193720  3.187694e+07   \n",
      "min      -99.000000   -99.000000   -99.000000     -9.000000 -9.900000e+01   \n",
      "25%        0.000000   -99.000000   -99.000000      0.000000  0.000000e+00   \n",
      "50%        0.000000     0.000000     0.000000      0.000000  1.250000e+04   \n",
      "75%        0.000000     0.000000     4.000000      0.000000  4.115000e+05   \n",
      "max       86.000000   999.000000  1941.000000      1.000000  1.000000e+09   \n",
      "\n",
      "        ransomamtus    ransompaid  ransompaidus  hostkidoutcome    nreleased  \\\n",
      "count  4.110000e+02  6.230000e+02    402.000000     8685.000000  8095.000000   \n",
      "mean   5.454451e+05  4.319721e+05    305.196517        4.592170   -27.788635   \n",
      "std    6.665967e+06  2.589893e+06   3409.027685        2.049184    58.524976   \n",
      "min   -9.900000e+01 -9.900000e+01    -99.000000        1.000000   -99.000000   \n",
      "25%    0.000000e+00 -9.900000e+01      0.000000        2.000000   -99.000000   \n",
      "50%    0.000000e+00  0.000000e+00      0.000000        4.000000     0.000000   \n",
      "75%    0.000000e+00  4.276840e+03      0.000000        7.000000     1.000000   \n",
      "max    1.320000e+08  4.100000e+07  48000.000000        7.000000  1201.000000   \n",
      "\n",
      "             INT_LOG       INT_IDEO       INT_MISC        INT_ANY  \n",
      "count  156772.000000  156772.000000  156772.000000  156772.000000  \n",
      "mean       -4.834645      -4.789114       0.093894      -4.221124  \n",
      "std         4.528862       4.589779       0.602442       4.686143  \n",
      "min        -9.000000      -9.000000      -9.000000      -9.000000  \n",
      "25%        -9.000000      -9.000000       0.000000      -9.000000  \n",
      "50%        -9.000000      -9.000000       0.000000       0.000000  \n",
      "75%         0.000000       0.000000       0.000000       0.000000  \n",
      "max         1.000000       1.000000       1.000000       1.000000  \n",
      "dataframe length = 156772\n",
      "dataframe attack_type unique = ['Assassination' 'Hostage Taking (Kidnapping)' 'Bombing/Explosion'\n",
      " 'Facility/Infrastructure Attack' 'Armed Assault' 'Hijacking' 'Unknown'\n",
      " 'Unarmed Assault' 'Hostage Taking (Barricade Incident)']\n",
      "id\n",
      "156772\n",
      "date\n",
      "15345\n",
      "year\n",
      "45\n",
      "month\n",
      "12\n",
      "day\n",
      "31\n",
      "approxdate\n",
      "1426\n",
      "extended\n",
      "2\n",
      "resolution\n",
      "2657\n",
      "country\n",
      "206\n",
      "country_txt\n",
      "206\n",
      "region\n",
      "12\n",
      "region_txt\n",
      "12\n",
      "state\n",
      "2509\n",
      "city\n",
      "31324\n",
      "latitude\n",
      "52021\n",
      "longitude\n",
      "51632\n",
      "specificity\n",
      "5\n",
      "vicinity\n",
      "3\n",
      "location\n",
      "35797\n",
      "summary\n",
      "88703\n",
      "crit1\n",
      "2\n",
      "crit2\n",
      "2\n",
      "crit3\n",
      "2\n",
      "doubtterr\n",
      "3\n",
      "alternative\n",
      "5\n",
      "alternative_txt\n",
      "6\n",
      "multiple\n",
      "2\n",
      "success\n",
      "2\n",
      "suicide\n",
      "2\n",
      "attacktype1\n",
      "9\n",
      "attack_type\n",
      "9\n",
      "attacktype2\n",
      "9\n",
      "attacktype2_txt\n",
      "10\n",
      "attacktype3\n",
      "8\n",
      "attacktype3_txt\n",
      "9\n",
      "targtype1\n",
      "22\n",
      "target\n",
      "22\n",
      "targsubtype1\n",
      "110\n",
      "targsubtype1_txt\n",
      "111\n",
      "corp1\n",
      "29295\n",
      "target1\n",
      "79947\n",
      "natlty1\n",
      "212\n",
      "natlty1_txt\n",
      "213\n",
      "targtype2\n",
      "22\n",
      "targtype2_txt\n",
      "23\n",
      "targsubtype2\n",
      "103\n",
      "targsubtype2_txt\n",
      "104\n",
      "corp2\n",
      "2344\n",
      "target2\n",
      "4562\n",
      "natlty2\n",
      "154\n",
      "natlty2_txt\n",
      "155\n",
      "targtype3\n",
      "20\n",
      "targtype3_txt\n",
      "21\n",
      "targsubtype3\n",
      "85\n",
      "targsubtype3_txt\n",
      "86\n",
      "corp3\n",
      "351\n",
      "target3\n",
      "631\n",
      "natlty3\n",
      "101\n",
      "natlty3_txt\n",
      "102\n",
      "gname\n",
      "3290\n",
      "gsubname\n",
      "992\n",
      "gname2\n",
      "334\n",
      "gsubname2\n",
      "43\n",
      "gname3\n",
      "77\n",
      "ingroup\n",
      "3290\n",
      "ingroup2\n",
      "334\n",
      "ingroup3\n",
      "77\n",
      "gsubname3\n",
      "6\n",
      "motive\n",
      "11682\n",
      "guncertain1\n",
      "2\n",
      "guncertain2\n",
      "2\n",
      "guncertain3\n",
      "2\n",
      "nperps\n",
      "113\n",
      "nperpcap\n",
      "50\n",
      "claimed\n",
      "4\n",
      "claimmode\n",
      "11\n",
      "claimmode_txt\n",
      "12\n",
      "claim2\n",
      "3\n",
      "claimmode2\n",
      "9\n",
      "claimmode2_txt\n",
      "10\n",
      "claim3\n",
      "2\n",
      "claimmode3\n",
      "8\n",
      "claimmode3_txt\n",
      "9\n",
      "compclaim\n",
      "3\n",
      "weaptype1\n",
      "12\n",
      "weapon\n",
      "12\n",
      "weapsubtype1\n",
      "28\n",
      "weapsubtype1_txt\n",
      "29\n",
      "weaptype2\n",
      "11\n",
      "weaptype2_txt\n",
      "12\n",
      "weapsubtype2\n",
      "26\n",
      "weapsubtype2_txt\n",
      "27\n",
      "weaptype3\n",
      "10\n",
      "weaptype3_txt\n",
      "11\n",
      "weapsubtype3\n",
      "22\n",
      "weapsubtype3_txt\n",
      "23\n",
      "weaptype4\n",
      "5\n",
      "weaptype4_txt\n",
      "6\n",
      "weapsubtype4\n",
      "16\n",
      "weapsubtype4_txt\n",
      "17\n",
      "weapdetail\n",
      "16987\n",
      "dead\n",
      "338\n",
      "nkillus\n",
      "30\n",
      "nkillter\n",
      "133\n",
      "injured\n",
      "376\n",
      "nwoundus\n",
      "43\n",
      "nwoundte\n",
      "64\n",
      "property\n",
      "3\n",
      "propextent\n",
      "4\n",
      "propextent_txt\n",
      "5\n",
      "propvalue\n",
      "604\n",
      "propcomment\n",
      "17458\n",
      "ishostkid\n",
      "3\n",
      "nhostkid\n",
      "221\n",
      "nhostkidus\n",
      "28\n",
      "nhours\n",
      "34\n",
      "ndays\n",
      "289\n",
      "divert\n",
      "142\n",
      "kidhijcountry\n",
      "217\n",
      "ransom\n",
      "3\n",
      "ransomamt\n",
      "350\n",
      "ransomamtus\n",
      "21\n",
      "ransompaid\n",
      "122\n",
      "ransompaidus\n",
      "8\n",
      "ransomnote\n",
      "296\n",
      "hostkidoutcome\n",
      "7\n",
      "hostkidoutcome_txt\n",
      "8\n",
      "nreleased\n",
      "155\n",
      "addnotes\n",
      "12761\n",
      "scite1\n",
      "66822\n",
      "scite2\n",
      "50239\n",
      "scite3\n",
      "28554\n",
      "dbsource\n",
      "26\n",
      "INT_LOG\n",
      "3\n",
      "INT_IDEO\n",
      "3\n",
      "INT_MISC\n",
      "3\n",
      "INT_ANY\n",
      "3\n",
      "related\n",
      "20029\n"
     ]
    }
   ],
   "source": [
    "def eda(dataframe): \n",
    "    print \"missing values \\n\", dataframe.isnull().sum() \n",
    "    print \"dataframe types \\n\", dataframe.dtypes\n",
    "    print \"dataframe shape \\n\", dataframe.shape     \n",
    "    print \"dataframe describe \\n\", dataframe.describe()\n",
    "    print \"dataframe length =\", len(dataframe) \n",
    "    print \"dataframe attack_type unique =\", dataframe.attack_type.unique()\n",
    "    for item in dataframe:\n",
    "        print item\n",
    "        print dataframe[item].nunique()\n",
    "\n",
    "eda(gtd)"
   ]
  },
  {
   "cell_type": "markdown",
   "metadata": {},
   "source": [
    "# EDA"
   ]
  },
  {
   "cell_type": "code",
   "execution_count": 11,
   "metadata": {
    "collapsed": false
   },
   "outputs": [
    {
     "data": {
      "text/plain": [
       "<matplotlib.axes._subplots.AxesSubplot at 0x114cd6b50>"
      ]
     },
     "execution_count": 11,
     "metadata": {},
     "output_type": "execute_result"
    },
    {
     "data": {
      "image/png": "[encoded data removed]",
      "text/plain": [
       "<matplotlib.figure.Figure at 0x1462eb950>"
      ]
     },
     "metadata": {},
     "output_type": "display_data"
    }
   ],
   "source": [
    "gtd['attack_type'].value_counts().plot(kind='bar', color='firebrick')\n",
    "#"
   ]
  },
  {
   "cell_type": "code",
   "execution_count": 143,
   "metadata": {
    "collapsed": false
   },
   "outputs": [
    {
     "data": {
      "text/plain": [
       "Middle East & North Africa     40422\n",
       "South Asia                     37841\n",
       "South America                  18628\n",
       "Western Europe                 16020\n",
       "Sub-Saharan Africa             13434\n",
       "Southeast Asia                 10360\n",
       "Central America & Caribbean    10337\n",
       "Eastern Europe                  4892\n",
       "North America                   3268\n",
       "East Asia                        786\n",
       "Central Asia                     538\n",
       "Australasia & Oceania            246\n",
       "Name: region_txt, dtype: int64"
      ]
     },
     "execution_count": 143,
     "metadata": {},
     "output_type": "execute_result"
    }
   ],
   "source": [
    "gtd['region_txt'].value_counts().plot(kind='bar', color='forestgreen')\n",
    "#Regions ranked by highest amount of attacks"
   ]
  },
  {
   "cell_type": "code",
   "execution_count": 13,
   "metadata": {
    "collapsed": false
   },
   "outputs": [
    {
     "data": {
      "text/plain": [
       "<matplotlib.axes._subplots.AxesSubplot at 0x11517cbd0>"
      ]
     },
     "execution_count": 13,
     "metadata": {},
     "output_type": "execute_result"
    },
    {
     "data": {
      "image/png": "[encoded data removed]",
      "text/plain": [
       "<matplotlib.figure.Figure at 0x11522ead0>"
      ]
     },
     "metadata": {},
     "output_type": "display_data"
    }
   ],
   "source": [
    "gtd['country_txt'].value_counts().head(10).plot(kind='bar', color='orange')\n",
    "#Top ten countries ranked by highest amount of attacks"
   ]
  },
  {
   "cell_type": "code",
   "execution_count": 112,
   "metadata": {
    "collapsed": false,
    "scrolled": true
   },
   "outputs": [
    {
     "data": {
      "text/plain": [
       "<matplotlib.axes._subplots.AxesSubplot at 0x138e590d0>"
      ]
     },
     "execution_count": 112,
     "metadata": {},
     "output_type": "execute_result"
    },
    {
     "data": {
      "image/png": "[encoded data removed]",
      "text/plain": [
       "<matplotlib.figure.Figure at 0x139042910>"
      ]
     },
     "metadata": {},
     "output_type": "display_data"
    }
   ],
   "source": [
    "gtd['gname'].value_counts().head(10).plot(kind='bar', color='gray')\n",
    "#Top 10 groups attributed to carrying out the highest amount of attacks"
   ]
  },
  {
   "cell_type": "code",
   "execution_count": 113,
   "metadata": {
    "collapsed": false
   },
   "outputs": [
    {
     "data": {
      "image/png": "[encoded data removed]",
      "text/plain": [
       "<matplotlib.figure.Figure at 0x138d47b10>"
      ]
     },
     "metadata": {},
     "output_type": "display_data"
    }
   ],
   "source": [
    "plt.figure(figsize=(12,12))\n",
    "ax = sns.countplot(\n",
    "        x='attack_type',\n",
    "        hue='success',\n",
    "        color='Black',\n",
    "        linewidth=2,\n",
    "        edgecolor=sns.color_palette(\"gray\", 1),\n",
    "        data=gtd)\n",
    "_ = plt.xticks(rotation=40)\n",
    "_ = ax.set_xlabel('Attack Type')\n",
    "_ = ax.set_ylabel('Number of Attacks')\n",
    "_ = ax.set_title('Total Number of Attacks by Type and Success/Failure')\n",
    "_ = plt.legend(bbox_to_anchor=(1.02, 1.0), loc=2, borderaxespad=0.)\n",
    "\n",
    "\n",
    "#Total number of attacks by specific type and colored by whether they were succesful or not\n"
   ]
  },
  {
   "cell_type": "code",
   "execution_count": 95,
   "metadata": {
    "collapsed": true
   },
   "outputs": [],
   "source": [
    "gtd_host = gtd[gtd.attacktype1 == 5]"
   ]
  },
  {
   "cell_type": "code",
   "execution_count": 97,
   "metadata": {
    "collapsed": false
   },
   "outputs": [
    {
     "data": {
      "text/plain": [
       "<matplotlib.axes._subplots.AxesSubplot at 0x11d117d50>"
      ]
     },
     "execution_count": 97,
     "metadata": {},
     "output_type": "execute_result"
    },
    {
     "data": {
      "image/png": "[encoded data removed]",
      "text/plain": [
       "<matplotlib.figure.Figure at 0x1352be850>"
      ]
     },
     "metadata": {},
     "output_type": "display_data"
    }
   ],
   "source": [
    "gtd_host.region_txt.value_counts().plot(kind=\"bar\", color='navy')"
   ]
  },
  {
   "cell_type": "code",
   "execution_count": 142,
   "metadata": {
    "collapsed": false
   },
   "outputs": [
    {
     "data": {
      "image/png": "[encoded data removed]",
      "text/plain": [
       "<matplotlib.figure.Figure at 0x134e1fc90>"
      ]
     },
     "metadata": {},
     "output_type": "display_data"
    }
   ],
   "source": [
    "gtd_host.groupby('year').attacktype1.sum().plot(kind=\"line\", color='red')\n",
    "plt.xlabel('Year')\n",
    "plt.ylabel('Hostage/Barricade Attacks')\n",
    "plt.title('Number of Hostage/Barricade Attacks Over Time')\n",
    "mpl.rcParams['figure.figsize'] = 8, 6"
   ]
  },
  {
   "cell_type": "markdown",
   "metadata": {
    "collapsed": true
   },
   "source": [
    "## EDA South Asia"
   ]
  },
  {
   "cell_type": "code",
   "execution_count": 55,
   "metadata": {
    "collapsed": false
   },
   "outputs": [],
   "source": [
    "sasia=gtd[gtd['region_txt']== 'South Asia']"
   ]
  },
  {
   "cell_type": "code",
   "execution_count": 56,
   "metadata": {
    "collapsed": false
   },
   "outputs": [
    {
     "data": {
      "text/plain": [
       "122389.00000000003"
      ]
     },
     "execution_count": 56,
     "metadata": {},
     "output_type": "execute_result"
    }
   ],
   "source": [
    "sasia.injured.sum()"
   ]
  },
  {
   "cell_type": "code",
   "execution_count": 57,
   "metadata": {
    "collapsed": false
   },
   "outputs": [
    {
     "data": {
      "text/plain": [
       "85529.99999999996"
      ]
     },
     "execution_count": 57,
     "metadata": {},
     "output_type": "execute_result"
    }
   ],
   "source": [
    "sasia.dead.sum()"
   ]
  },
  {
   "cell_type": "code",
   "execution_count": 58,
   "metadata": {
    "collapsed": false,
    "scrolled": true
   },
   "outputs": [
    {
     "data": {
      "text/html": [
       "<div>\n",
       "<table border=\"1\" class=\"dataframe\">\n",
       "  <thead>\n",
       "    <tr style=\"text-align: right;\">\n",
       "      <th></th>\n",
       "      <th>id</th>\n",
       "      <th>date</th>\n",
       "      <th>year</th>\n",
       "      <th>country_txt</th>\n",
       "      <th>state</th>\n",
       "      <th>latitude</th>\n",
       "      <th>longitude</th>\n",
       "      <th>attack_type</th>\n",
       "      <th>attacktype1</th>\n",
       "      <th>target</th>\n",
       "      <th>gname</th>\n",
       "      <th>weapon</th>\n",
       "      <th>dead</th>\n",
       "      <th>injured</th>\n",
       "    </tr>\n",
       "  </thead>\n",
       "  <tbody>\n",
       "    <tr>\n",
       "      <th>76258</th>\n",
       "      <td>200403210001</td>\n",
       "      <td>2004-03-21</td>\n",
       "      <td>2004</td>\n",
       "      <td>Nepal</td>\n",
       "      <td>Central</td>\n",
       "      <td>27.959441</td>\n",
       "      <td>84.895897</td>\n",
       "      <td>Armed Assault</td>\n",
       "      <td>2</td>\n",
       "      <td>Government (General)</td>\n",
       "      <td>Communist Party of Nepal- Maoist (CPN-M)</td>\n",
       "      <td>Firearms</td>\n",
       "      <td>518.0</td>\n",
       "      <td>216.0</td>\n",
       "    </tr>\n",
       "    <tr>\n",
       "      <th>67515</th>\n",
       "      <td>199802010001</td>\n",
       "      <td>1998-02-01</td>\n",
       "      <td>1998</td>\n",
       "      <td>Sri Lanka</td>\n",
       "      <td>Northern</td>\n",
       "      <td>9.380289</td>\n",
       "      <td>80.377000</td>\n",
       "      <td>Unknown</td>\n",
       "      <td>9</td>\n",
       "      <td>Military</td>\n",
       "      <td>Liberation Tigers of Tamil Eelam (LTTE)</td>\n",
       "      <td>Unknown</td>\n",
       "      <td>320.0</td>\n",
       "      <td>NaN</td>\n",
       "    </tr>\n",
       "    <tr>\n",
       "      <th>153181</th>\n",
       "      <td>201509280037</td>\n",
       "      <td>2015-09-28</td>\n",
       "      <td>2015</td>\n",
       "      <td>Afghanistan</td>\n",
       "      <td>Kunduz</td>\n",
       "      <td>36.728591</td>\n",
       "      <td>68.868066</td>\n",
       "      <td>Armed Assault</td>\n",
       "      <td>2</td>\n",
       "      <td>Private Citizens &amp; Property</td>\n",
       "      <td>Taliban</td>\n",
       "      <td>Firearms</td>\n",
       "      <td>240.0</td>\n",
       "      <td>296.0</td>\n",
       "    </tr>\n",
       "  </tbody>\n",
       "</table>\n",
       "</div>"
      ],
      "text/plain": [
       "                  id       date  year  country_txt     state   latitude  \\\n",
       "76258   200403210001 2004-03-21  2004        Nepal   Central  27.959441   \n",
       "67515   199802010001 1998-02-01  1998    Sri Lanka  Northern   9.380289   \n",
       "153181  201509280037 2015-09-28  2015  Afghanistan    Kunduz  36.728591   \n",
       "\n",
       "        longitude    attack_type  attacktype1                       target  \\\n",
       "76258   84.895897  Armed Assault            2         Government (General)   \n",
       "67515   80.377000        Unknown            9                     Military   \n",
       "153181  68.868066  Armed Assault            2  Private Citizens & Property   \n",
       "\n",
       "                                           gname    weapon   dead  injured  \n",
       "76258   Communist Party of Nepal- Maoist (CPN-M)  Firearms  518.0    216.0  \n",
       "67515    Liberation Tigers of Tamil Eelam (LTTE)   Unknown  320.0      NaN  \n",
       "153181                                   Taliban  Firearms  240.0    296.0  "
      ]
     },
     "execution_count": 58,
     "metadata": {},
     "output_type": "execute_result"
    }
   ],
   "source": [
    "sasia = sasia[['id', 'date', 'year','country_txt', 'state', 'latitude', 'longitude', 'attack_type','attacktype1',\n",
    "                         'target', 'gname', 'weapon', 'dead', 'injured']]\n",
    "sasia = sasia.sort_values(['dead'], ascending = False)\n",
    "sasia.head(3)\n",
    "#The deadliest attack in South Asia happened in 2004 in the Nepal. The attack was an\n",
    "#armed assault that targetted a government location and used firearms. The attack killed\n",
    "#518 people and injured 216."
   ]
  },
  {
   "cell_type": "code",
   "execution_count": 141,
   "metadata": {
    "collapsed": false
   },
   "outputs": [
    {
     "data": {
      "image/png": "[encoded data removed]",
      "text/plain": [
       "<matplotlib.figure.Figure at 0x11bff8a90>"
      ]
     },
     "metadata": {},
     "output_type": "display_data"
    }
   ],
   "source": [
    "sasia_host = gtd[(gtd.attacktype1 == 5) & (gtd.region == 6)]\n",
    "sasia_host.groupby('year').attacktype1.sum().plot(kind='line', color='red')\n",
    "plt.xlabel('Year')\n",
    "plt.ylabel('Hostage/Barricade Attacks')\n",
    "plt.title('Number of Hostage/Barricade Attacks in South Asia')\n",
    "mpl.rcParams['figure.figsize'] = 8,6"
   ]
  },
  {
   "cell_type": "code",
   "execution_count": 122,
   "metadata": {
    "collapsed": false
   },
   "outputs": [
    {
     "data": {
      "text/plain": [
       "365"
      ]
     },
     "execution_count": 122,
     "metadata": {},
     "output_type": "execute_result"
    }
   ],
   "source": [
    "sasia_host.attacktype1.sum()"
   ]
  },
  {
   "cell_type": "code",
   "execution_count": 115,
   "metadata": {
    "collapsed": false
   },
   "outputs": [
    {
     "data": {
      "text/plain": [
       "358.0"
      ]
     },
     "execution_count": 115,
     "metadata": {},
     "output_type": "execute_result"
    }
   ],
   "source": [
    "sasia_host.dead.sum()"
   ]
  },
  {
   "cell_type": "code",
   "execution_count": 116,
   "metadata": {
    "collapsed": false
   },
   "outputs": [
    {
     "data": {
      "text/plain": [
       "338.0"
      ]
     },
     "execution_count": 116,
     "metadata": {},
     "output_type": "execute_result"
    }
   ],
   "source": [
    "sasia_host.injured.sum()"
   ]
  },
  {
   "cell_type": "markdown",
   "metadata": {
    "collapsed": true
   },
   "source": [
    "## EDA India"
   ]
  },
  {
   "cell_type": "code",
   "execution_count": 106,
   "metadata": {
    "collapsed": false
   },
   "outputs": [],
   "source": [
    "india_gtd = gtd[gtd['country_txt']=='India'] #Location Code - 92 - Region -South Asia - 6"
   ]
  },
  {
   "cell_type": "code",
   "execution_count": 12,
   "metadata": {
    "collapsed": false,
    "scrolled": true
   },
   "outputs": [
    {
     "data": {
      "text/html": [
       "<div>\n",
       "<table border=\"1\" class=\"dataframe\">\n",
       "  <thead>\n",
       "    <tr style=\"text-align: right;\">\n",
       "      <th></th>\n",
       "      <th>id</th>\n",
       "      <th>date</th>\n",
       "      <th>year</th>\n",
       "      <th>state</th>\n",
       "      <th>latitude</th>\n",
       "      <th>longitude</th>\n",
       "      <th>attack_type</th>\n",
       "      <th>target</th>\n",
       "      <th>gname</th>\n",
       "      <th>weapon</th>\n",
       "      <th>dead</th>\n",
       "      <th>injured</th>\n",
       "    </tr>\n",
       "  </thead>\n",
       "  <tbody>\n",
       "    <tr>\n",
       "      <th>81000</th>\n",
       "      <td>200607120001</td>\n",
       "      <td>2006-07-11</td>\n",
       "      <td>2006</td>\n",
       "      <td>Maharashtra</td>\n",
       "      <td>19.075984</td>\n",
       "      <td>72.877656</td>\n",
       "      <td>Bombing/Explosion</td>\n",
       "      <td>Transportation</td>\n",
       "      <td>Lashkar-e-Taiba (LeT)</td>\n",
       "      <td>Explosives/Bombs/Dynamite</td>\n",
       "      <td>188.0</td>\n",
       "      <td>817.0</td>\n",
       "    </tr>\n",
       "    <tr>\n",
       "      <th>96598</th>\n",
       "      <td>201005280005</td>\n",
       "      <td>2010-05-28</td>\n",
       "      <td>2010</td>\n",
       "      <td>West Bengal</td>\n",
       "      <td>22.451090</td>\n",
       "      <td>86.995289</td>\n",
       "      <td>Unknown</td>\n",
       "      <td>Transportation</td>\n",
       "      <td>Communist Party of India - Maoist (CPI-Maoist)</td>\n",
       "      <td>Unknown</td>\n",
       "      <td>115.0</td>\n",
       "      <td>140.0</td>\n",
       "    </tr>\n",
       "    <tr>\n",
       "      <th>54339</th>\n",
       "      <td>199212080019</td>\n",
       "      <td>1992-12-08</td>\n",
       "      <td>1992</td>\n",
       "      <td>Maharashtra</td>\n",
       "      <td>19.075984</td>\n",
       "      <td>72.877656</td>\n",
       "      <td>Armed Assault</td>\n",
       "      <td>Private Citizens &amp; Property</td>\n",
       "      <td>Muslim Militants</td>\n",
       "      <td>Incendiary</td>\n",
       "      <td>115.0</td>\n",
       "      <td>0.0</td>\n",
       "    </tr>\n",
       "  </tbody>\n",
       "</table>\n",
       "</div>"
      ],
      "text/plain": [
       "                 id       date  year        state   latitude  longitude  \\\n",
       "81000  200607120001 2006-07-11  2006  Maharashtra  19.075984  72.877656   \n",
       "96598  201005280005 2010-05-28  2010  West Bengal  22.451090  86.995289   \n",
       "54339  199212080019 1992-12-08  1992  Maharashtra  19.075984  72.877656   \n",
       "\n",
       "             attack_type                       target  \\\n",
       "81000  Bombing/Explosion               Transportation   \n",
       "96598            Unknown               Transportation   \n",
       "54339      Armed Assault  Private Citizens & Property   \n",
       "\n",
       "                                                gname  \\\n",
       "81000                           Lashkar-e-Taiba (LeT)   \n",
       "96598  Communist Party of India - Maoist (CPI-Maoist)   \n",
       "54339                                Muslim Militants   \n",
       "\n",
       "                          weapon   dead  injured  \n",
       "81000  Explosives/Bombs/Dynamite  188.0    817.0  \n",
       "96598                    Unknown  115.0    140.0  \n",
       "54339                 Incendiary  115.0      0.0  "
      ]
     },
     "execution_count": 12,
     "metadata": {},
     "output_type": "execute_result"
    }
   ],
   "source": [
    "india_gtd = india_gtd[['id', 'date', 'year', 'state', 'latitude', 'longitude', 'attack_type',\n",
    "                         'target', 'gname', 'weapon', 'dead', 'injured']]\n",
    "india_gtd = india_gtd.sort_values(['dead'], ascending = False)\n",
    "india_gtd.head(3)\n",
    "\n",
    "#India's deadliest attack happened in 2006 and was a bombing/explosion which targeted a form \n",
    "#of transportation and killed a total of 188 people, while injuring 817."
   ]
  },
  {
   "cell_type": "code",
   "execution_count": 145,
   "metadata": {
    "collapsed": false
   },
   "outputs": [
    {
     "data": {
      "text/plain": [
       "32516"
      ]
     },
     "execution_count": 145,
     "metadata": {},
     "output_type": "execute_result"
    }
   ],
   "source": [
    "india_gtd.attacktype1.sum()"
   ]
  },
  {
   "cell_type": "code",
   "execution_count": 13,
   "metadata": {
    "collapsed": false
   },
   "outputs": [
    {
     "data": {
      "text/plain": [
       "18317.0"
      ]
     },
     "execution_count": 13,
     "metadata": {},
     "output_type": "execute_result"
    }
   ],
   "source": [
    "india_gtd.dead.sum() #Total killed in India from 1970-2015(excluding 1993)"
   ]
  },
  {
   "cell_type": "code",
   "execution_count": 14,
   "metadata": {
    "collapsed": false
   },
   "outputs": [
    {
     "data": {
      "text/plain": [
       "27256.99999999999"
      ]
     },
     "execution_count": 14,
     "metadata": {},
     "output_type": "execute_result"
    }
   ],
   "source": [
    "india_gtd.injured.sum() #Total injured in India from 1970-2015(excluding 1993)"
   ]
  },
  {
   "cell_type": "code",
   "execution_count": 15,
   "metadata": {
    "collapsed": false,
    "scrolled": true
   },
   "outputs": [
    {
     "data": {
      "text/plain": [
       "<matplotlib.axes._subplots.AxesSubplot at 0x1112a7750>"
      ]
     },
     "execution_count": 15,
     "metadata": {},
     "output_type": "execute_result"
    },
    {
     "data": {
      "image/png": "[encoded data removed]",
      "text/plain": [
       "<matplotlib.figure.Figure at 0x110d2cd10>"
      ]
     },
     "metadata": {},
     "output_type": "display_data"
    }
   ],
   "source": [
    "sns.distplot(india_gtd['year']) #Histogram of India data by year"
   ]
  },
  {
   "cell_type": "code",
   "execution_count": 140,
   "metadata": {
    "collapsed": false
   },
   "outputs": [
    {
     "name": "stderr",
     "output_type": "stream",
     "text": [
      "/Users/valeriarozenbaum/anaconda/lib/python2.7/site-packages/ipykernel/__main__.py:1: UserWarning: Boolean Series key will be reindexed to match DataFrame index.\n",
      "  if __name__ == '__main__':\n"
     ]
    },
    {
     "data": {
      "image/png": "[encoded data removed]",
      "text/plain": [
       "<matplotlib.figure.Figure at 0x122c01290>"
      ]
     },
     "metadata": {},
     "output_type": "display_data"
    }
   ],
   "source": [
    "india_host = india_gtd[gtd.attacktype1 == 5]\n",
    "india_host.groupby('year').attacktype1.sum().plot(kind='line', color='red')\n",
    "plt.xlabel('Year')\n",
    "plt.ylabel('Hostage/Barricade Attacks')\n",
    "plt.title('Hostage/Barricade Attacks in India')\n",
    "mpl.rcParams['figure.figsize'] = 8,6"
   ]
  },
  {
   "cell_type": "code",
   "execution_count": 123,
   "metadata": {
    "collapsed": false
   },
   "outputs": [
    {
     "data": {
      "text/plain": [
       "80"
      ]
     },
     "execution_count": 123,
     "metadata": {},
     "output_type": "execute_result"
    }
   ],
   "source": [
    "india_host.attacktype1.sum()"
   ]
  },
  {
   "cell_type": "code",
   "execution_count": 124,
   "metadata": {
    "collapsed": false
   },
   "outputs": [
    {
     "data": {
      "text/plain": [
       "16.0"
      ]
     },
     "execution_count": 124,
     "metadata": {},
     "output_type": "execute_result"
    }
   ],
   "source": [
    "india_host.dead.sum()"
   ]
  },
  {
   "cell_type": "code",
   "execution_count": 125,
   "metadata": {
    "collapsed": false
   },
   "outputs": [
    {
     "data": {
      "text/plain": [
       "20.0"
      ]
     },
     "execution_count": 125,
     "metadata": {},
     "output_type": "execute_result"
    }
   ],
   "source": [
    "india_host.injured.sum()"
   ]
  },
  {
   "cell_type": "markdown",
   "metadata": {},
   "source": [
    "## EDA Pakistan"
   ]
  },
  {
   "cell_type": "code",
   "execution_count": 109,
   "metadata": {
    "collapsed": true
   },
   "outputs": [],
   "source": [
    "pak_gtd = gtd[gtd['country_txt']=='Pakistan'] #Location code - 153 - Region - South Asia - 6"
   ]
  },
  {
   "cell_type": "code",
   "execution_count": 18,
   "metadata": {
    "collapsed": false
   },
   "outputs": [
    {
     "data": {
      "text/html": [
       "<div>\n",
       "<table border=\"1\" class=\"dataframe\">\n",
       "  <thead>\n",
       "    <tr style=\"text-align: right;\">\n",
       "      <th></th>\n",
       "      <th>id</th>\n",
       "      <th>date</th>\n",
       "      <th>year</th>\n",
       "      <th>state</th>\n",
       "      <th>latitude</th>\n",
       "      <th>longitude</th>\n",
       "      <th>attack_type</th>\n",
       "      <th>target</th>\n",
       "      <th>gname</th>\n",
       "      <th>weapon</th>\n",
       "      <th>dead</th>\n",
       "      <th>injured</th>\n",
       "    </tr>\n",
       "  </thead>\n",
       "  <tbody>\n",
       "    <tr>\n",
       "      <th>141345</th>\n",
       "      <td>201412160002</td>\n",
       "      <td>2014-12-16</td>\n",
       "      <td>2014</td>\n",
       "      <td>Khyber Pakhtunkhwa</td>\n",
       "      <td>34.013923</td>\n",
       "      <td>71.536462</td>\n",
       "      <td>Hostage Taking (Kidnapping)</td>\n",
       "      <td>Educational Institution</td>\n",
       "      <td>Tehrik-i-Taliban Pakistan (TTP)</td>\n",
       "      <td>Explosives/Bombs/Dynamite</td>\n",
       "      <td>157.0</td>\n",
       "      <td>131.0</td>\n",
       "    </tr>\n",
       "    <tr>\n",
       "      <th>84373</th>\n",
       "      <td>200710180001</td>\n",
       "      <td>2007-10-18</td>\n",
       "      <td>2007</td>\n",
       "      <td>Sindh</td>\n",
       "      <td>24.889054</td>\n",
       "      <td>67.100078</td>\n",
       "      <td>Bombing/Explosion</td>\n",
       "      <td>Government (General)</td>\n",
       "      <td>Harkatul Jihad-e-Islami</td>\n",
       "      <td>Explosives/Bombs/Dynamite</td>\n",
       "      <td>141.0</td>\n",
       "      <td>250.0</td>\n",
       "    </tr>\n",
       "    <tr>\n",
       "      <th>94024</th>\n",
       "      <td>200910280029</td>\n",
       "      <td>2009-10-28</td>\n",
       "      <td>2009</td>\n",
       "      <td>North-West Frontier Province</td>\n",
       "      <td>34.009667</td>\n",
       "      <td>71.579994</td>\n",
       "      <td>Bombing/Explosion</td>\n",
       "      <td>Private Citizens &amp; Property</td>\n",
       "      <td>Tehrik-i-Taliban Pakistan (TTP)</td>\n",
       "      <td>Explosives/Bombs/Dynamite</td>\n",
       "      <td>120.0</td>\n",
       "      <td>200.0</td>\n",
       "    </tr>\n",
       "  </tbody>\n",
       "</table>\n",
       "</div>"
      ],
      "text/plain": [
       "                  id       date  year                         state  \\\n",
       "141345  201412160002 2014-12-16  2014            Khyber Pakhtunkhwa   \n",
       "84373   200710180001 2007-10-18  2007                         Sindh   \n",
       "94024   200910280029 2009-10-28  2009  North-West Frontier Province   \n",
       "\n",
       "         latitude  longitude                  attack_type  \\\n",
       "141345  34.013923  71.536462  Hostage Taking (Kidnapping)   \n",
       "84373   24.889054  67.100078            Bombing/Explosion   \n",
       "94024   34.009667  71.579994            Bombing/Explosion   \n",
       "\n",
       "                             target                            gname  \\\n",
       "141345      Educational Institution  Tehrik-i-Taliban Pakistan (TTP)   \n",
       "84373          Government (General)          Harkatul Jihad-e-Islami   \n",
       "94024   Private Citizens & Property  Tehrik-i-Taliban Pakistan (TTP)   \n",
       "\n",
       "                           weapon   dead  injured  \n",
       "141345  Explosives/Bombs/Dynamite  157.0    131.0  \n",
       "84373   Explosives/Bombs/Dynamite  141.0    250.0  \n",
       "94024   Explosives/Bombs/Dynamite  120.0    200.0  "
      ]
     },
     "execution_count": 18,
     "metadata": {},
     "output_type": "execute_result"
    }
   ],
   "source": [
    "pak_gtd = pak_gtd[['id', 'date', 'year', 'state', 'latitude', 'longitude', 'attack_type',\n",
    "                         'target', 'gname', 'weapon', 'dead', 'injured']]\n",
    "pak_gtd = pak_gtd.sort_values(['dead'], ascending = False)\n",
    "pak_gtd.head(3)\n",
    "\n",
    "#It looks like Pakistan's deadliest attack happened in 2014 and was targeting an Educational\n",
    "#Institution. The attack was a hostage taking/kidnapping which used explosives as the \n",
    "#primary weapon and killed a total of 157 people, while injuring 131."
   ]
  },
  {
   "cell_type": "code",
   "execution_count": 146,
   "metadata": {
    "collapsed": false
   },
   "outputs": [
    {
     "data": {
      "text/plain": [
       "37463"
      ]
     },
     "execution_count": 146,
     "metadata": {},
     "output_type": "execute_result"
    }
   ],
   "source": [
    "pak_gtd.attacktype1.sum()"
   ]
  },
  {
   "cell_type": "code",
   "execution_count": 19,
   "metadata": {
    "collapsed": false
   },
   "outputs": [
    {
     "data": {
      "text/plain": [
       "21597.000000000004"
      ]
     },
     "execution_count": 19,
     "metadata": {},
     "output_type": "execute_result"
    }
   ],
   "source": [
    "pak_gtd.dead.sum() #Total killed in Pakistan from 1970-2015(excluding 1993)"
   ]
  },
  {
   "cell_type": "code",
   "execution_count": 20,
   "metadata": {
    "collapsed": false
   },
   "outputs": [
    {
     "data": {
      "text/plain": [
       "38011.99999999999"
      ]
     },
     "execution_count": 20,
     "metadata": {},
     "output_type": "execute_result"
    }
   ],
   "source": [
    "pak_gtd.injured.sum() #Total injured in Pakistan from 1970-2015(excluding 1993)"
   ]
  },
  {
   "cell_type": "code",
   "execution_count": 21,
   "metadata": {
    "collapsed": false,
    "scrolled": true
   },
   "outputs": [
    {
     "data": {
      "text/plain": [
       "<matplotlib.axes._subplots.AxesSubplot at 0x111271950>"
      ]
     },
     "execution_count": 21,
     "metadata": {},
     "output_type": "execute_result"
    },
    {
     "data": {
      "image/png": "[encoded data removed]",
      "text/plain": [
       "<matplotlib.figure.Figure at 0x1111cae10>"
      ]
     },
     "metadata": {},
     "output_type": "display_data"
    }
   ],
   "source": [
    "sns.distplot(pak_gtd['year']) #Histogram of Pakistan data by year"
   ]
  },
  {
   "cell_type": "code",
   "execution_count": 144,
   "metadata": {
    "collapsed": false
   },
   "outputs": [
    {
     "name": "stderr",
     "output_type": "stream",
     "text": [
      "/Users/valeriarozenbaum/anaconda/lib/python2.7/site-packages/ipykernel/__main__.py:1: UserWarning: Boolean Series key will be reindexed to match DataFrame index.\n",
      "  if __name__ == '__main__':\n"
     ]
    },
    {
     "data": {
      "image/png": "[encoded data removed]",
      "text/plain": [
       "<matplotlib.figure.Figure at 0x140abe3d0>"
      ]
     },
     "metadata": {},
     "output_type": "display_data"
    }
   ],
   "source": [
    "pak_host = pak_gtd[gtd.attacktype1 == 5]\n",
    "pak_host.groupby('year').attacktype1.sum().plot(kind='line', color='red')\n",
    "plt.xlabel('Year')\n",
    "plt.ylabel('Hostage/Barricade Attacks')\n",
    "plt.title('Hostage/Barricade Attacks in Pakistan')\n",
    "mpl.rcParams['figure.figsize'] = 8, 6"
   ]
  },
  {
   "cell_type": "code",
   "execution_count": 126,
   "metadata": {
    "collapsed": false
   },
   "outputs": [
    {
     "data": {
      "text/plain": [
       "130"
      ]
     },
     "execution_count": 126,
     "metadata": {},
     "output_type": "execute_result"
    }
   ],
   "source": [
    "pak_host.attacktype1.sum()"
   ]
  },
  {
   "cell_type": "code",
   "execution_count": 127,
   "metadata": {
    "collapsed": false
   },
   "outputs": [
    {
     "data": {
      "text/plain": [
       "158.0"
      ]
     },
     "execution_count": 127,
     "metadata": {},
     "output_type": "execute_result"
    }
   ],
   "source": [
    "pak_host.dead.sum()"
   ]
  },
  {
   "cell_type": "code",
   "execution_count": 128,
   "metadata": {
    "collapsed": false
   },
   "outputs": [
    {
     "data": {
      "text/plain": [
       "147.0"
      ]
     },
     "execution_count": 128,
     "metadata": {},
     "output_type": "execute_result"
    }
   ],
   "source": [
    "pak_host.injured.sum()"
   ]
  },
  {
   "cell_type": "markdown",
   "metadata": {
    "collapsed": true
   },
   "source": [
    "# Bayesian Inference: India and Pakistan"
   ]
  },
  {
   "cell_type": "code",
   "execution_count": 10,
   "metadata": {
    "collapsed": false
   },
   "outputs": [
    {
     "name": "stdout",
     "output_type": "stream",
     "text": [
      "Couldn't import dot_parser, loading of dot files will not be possible.\n"
     ]
    }
   ],
   "source": [
    "import pymc3 as pm"
   ]
  },
  {
   "cell_type": "markdown",
   "metadata": {},
   "source": [
    "## Establishing Prior: South Asia - Hostage Taking - Before/At 2001"
   ]
  },
  {
   "cell_type": "code",
   "execution_count": 67,
   "metadata": {
    "collapsed": false
   },
   "outputs": [
    {
     "data": {
      "text/plain": [
       "array([1, 1, 2, 1, 1, 1, 1])"
      ]
     },
     "execution_count": 67,
     "metadata": {},
     "output_type": "execute_result"
    }
   ],
   "source": [
    "sea_prior = gtd[(gtd.attacktype1 == 5) & (gtd.region == 6) & (gtd.year <= 2001)].groupby(['year', 'country_txt']).attacktype1.count().values\n",
    "sea_prior"
   ]
  },
  {
   "cell_type": "code",
   "execution_count": 68,
   "metadata": {
    "collapsed": true
   },
   "outputs": [],
   "source": [
    "sea_prior_mean = sea_prior.mean()"
   ]
  },
  {
   "cell_type": "code",
   "execution_count": 69,
   "metadata": {
    "collapsed": true
   },
   "outputs": [],
   "source": [
    "sea_prior_std = sea_prior.std()"
   ]
  },
  {
   "cell_type": "markdown",
   "metadata": {
    "collapsed": true
   },
   "source": [
    "## Population of Interest: India - Hostage Taking - After 2001"
   ]
  },
  {
   "cell_type": "code",
   "execution_count": 26,
   "metadata": {
    "collapsed": false
   },
   "outputs": [
    {
     "data": {
      "text/plain": [
       "array([1, 1, 1, 1, 3, 2, 3, 4])"
      ]
     },
     "execution_count": 26,
     "metadata": {},
     "output_type": "execute_result"
    }
   ],
   "source": [
    "india_pop = gtd[(gtd.attacktype1 == 5) & (gtd.country == 92) & (gtd.year > 2001)].groupby(['year']).attacktype1.count().values\n",
    "india_pop"
   ]
  },
  {
   "cell_type": "code",
   "execution_count": 27,
   "metadata": {
    "collapsed": true
   },
   "outputs": [],
   "source": [
    "india_pop_mean = india_pop.mean()"
   ]
  },
  {
   "cell_type": "code",
   "execution_count": 28,
   "metadata": {
    "collapsed": true
   },
   "outputs": [],
   "source": [
    "india_pop_std = india_pop.std()"
   ]
  },
  {
   "cell_type": "markdown",
   "metadata": {},
   "source": [
    "## Population of Interest: Pakistan - Hostage Taking - After 2001"
   ]
  },
  {
   "cell_type": "code",
   "execution_count": 31,
   "metadata": {
    "collapsed": false
   },
   "outputs": [
    {
     "data": {
      "text/plain": [
       "array([2, 2, 3, 4, 5, 6, 4])"
      ]
     },
     "execution_count": 31,
     "metadata": {},
     "output_type": "execute_result"
    }
   ],
   "source": [
    "pak_pop = gtd[(gtd.attacktype1 == 5) & (gtd.country == 153) & (gtd.year > 2001)].groupby(['year']).attacktype1.count().values\n",
    "pak_pop"
   ]
  },
  {
   "cell_type": "code",
   "execution_count": 32,
   "metadata": {
    "collapsed": true
   },
   "outputs": [],
   "source": [
    "pak_pop_mean = pak_pop.mean()"
   ]
  },
  {
   "cell_type": "code",
   "execution_count": 33,
   "metadata": {
    "collapsed": true
   },
   "outputs": [],
   "source": [
    "pak_pop_std = pak_pop.std()"
   ]
  },
  {
   "cell_type": "markdown",
   "metadata": {},
   "source": [
    "## Pymc3"
   ]
  },
  {
   "cell_type": "code",
   "execution_count": 70,
   "metadata": {
    "collapsed": false
   },
   "outputs": [],
   "source": [
    "with pm.Model() as model:\n",
    "    \n",
    "    indmean = pm.Normal('Mean_Host_India', sea_prior_mean, sd=sea_prior_std)\n",
    "    pakmean = pm.Normal('Mean_Host_Pak', sea_prior_mean, sd=sea_prior_std)"
   ]
  },
  {
   "cell_type": "code",
   "execution_count": 71,
   "metadata": {
    "collapsed": true
   },
   "outputs": [],
   "source": [
    "std_prior_lower = 0.01\n",
    "std_prior_upper = 100.0\n",
    "\n",
    "with model:\n",
    "    \n",
    "    indstd = pm.Uniform('Std_Host_India', lower= std_prior_lower, upper= std_prior_upper)\n",
    "    pakstd = pm.Uniform('Std_Host_Pak', lower= std_prior_lower, upper= std_prior_upper)"
   ]
  },
  {
   "cell_type": "code",
   "execution_count": 72,
   "metadata": {
    "collapsed": true
   },
   "outputs": [],
   "source": [
    "with model:\n",
    "\n",
    "    indgroup = pm.Normal('India_Hostages', mu= indmean, sd= indstd, observed=india_pop)\n",
    "    pakgroup = pm.Normal('Pakistan_Hostages', mu= pakmean, sd= pakstd, observed=pak_pop)"
   ]
  },
  {
   "cell_type": "code",
   "execution_count": 73,
   "metadata": {
    "collapsed": false
   },
   "outputs": [],
   "source": [
    "with model:\n",
    "\n",
    "    meandiff = pm.Deterministic('Mean_Diff', indmean - pakmean)\n",
    "    stddiff = pm.Deterministic('Stdev_Diff', indstd - pakstd)\n",
    "    effect = pm.Deterministic('Effect', meandiff / np.sqrt((indstd**2 + pakstd**2) / 2))\n",
    "    "
   ]
  },
  {
   "cell_type": "code",
   "execution_count": 74,
   "metadata": {
    "collapsed": false
   },
   "outputs": [
    {
     "name": "stderr",
     "output_type": "stream",
     "text": [
      "Auto-assigning NUTS sampler...\n",
      "Initializing NUTS using advi...\n",
      "Average ELBO = -39.63: 100%|██████████| 200000/200000 [01:42<00:00, 1952.85it/s] \n",
      "Finished [100%]: Average ELBO = -39.625\n",
      "100%|██████████| 25000/25000 [03:58<00:00, 104.93it/s]\n"
     ]
    }
   ],
   "source": [
    "with model:\n",
    "    trace = pm.sample(25000, njobs=4)\n"
   ]
  },
  {
   "cell_type": "code",
   "execution_count": 75,
   "metadata": {
    "collapsed": false
   },
   "outputs": [
    {
     "data": {
      "text/plain": [
       "array([<matplotlib.axes._subplots.AxesSubplot object at 0x1382cf410>,\n",
       "       <matplotlib.axes._subplots.AxesSubplot object at 0x1174d9f10>,\n",
       "       <matplotlib.axes._subplots.AxesSubplot object at 0x11d71d8d0>,\n",
       "       <matplotlib.axes._subplots.AxesSubplot object at 0x1212ddd10>], dtype=object)"
      ]
     },
     "execution_count": 75,
     "metadata": {},
     "output_type": "execute_result"
    },
    {
     "data": {
      "image/png": "[encoded data removed]",
      "text/plain": [
       "<matplotlib.figure.Figure at 0x13518d950>"
      ]
     },
     "metadata": {},
     "output_type": "display_data"
    }
   ],
   "source": [
    "pm.plot_posterior(trace[3000:],\n",
    "                  varnames=['Mean_Host_India', 'Mean_Host_Pak', 'Std_Host_India', 'Std_Host_Pak'],\n",
    "                  color='red')"
   ]
  },
  {
   "cell_type": "code",
   "execution_count": 77,
   "metadata": {
    "collapsed": false
   },
   "outputs": [
    {
     "data": {
      "text/plain": [
       "array([<matplotlib.axes._subplots.AxesSubplot object at 0x1353e0910>,\n",
       "       <matplotlib.axes._subplots.AxesSubplot object at 0x122695090>,\n",
       "       <matplotlib.axes._subplots.AxesSubplot object at 0x11df9e690>], dtype=object)"
      ]
     },
     "execution_count": 77,
     "metadata": {},
     "output_type": "execute_result"
    },
    {
     "data": {
      "image/png": "[encoded data removed]",
      "text/plain": [
       "<matplotlib.figure.Figure at 0x12217bad0>"
      ]
     },
     "metadata": {},
     "output_type": "display_data"
    }
   ],
   "source": [
    "pm.plot_posterior(trace[3000:],\n",
    "                  varnames=['Mean_Diff', 'Stdev_Diff', 'Effect'],\n",
    "                  ref_val=0,\n",
    "                  color='red')"
   ]
  },
  {
   "cell_type": "code",
   "execution_count": 78,
   "metadata": {
    "collapsed": false
   },
   "outputs": [
    {
     "name": "stdout",
     "output_type": "stream",
     "text": [
      "\n",
      "Mean_Diff:\n",
      "\n",
      "  Mean             SD               MC Error         95% HPD interval\n",
      "  -------------------------------------------------------------------\n",
      "  \n",
      "  0.048            0.468            0.002            [-0.880, 0.956]\n",
      "\n",
      "  Posterior quantiles:\n",
      "  2.5            25             50             75             97.5\n",
      "  |--------------|==============|==============|--------------|\n",
      "  \n",
      "  -0.879         -0.265         0.049          0.365          0.959\n",
      "\n",
      "\n",
      "Stdev_Diff:\n",
      "\n",
      "  Mean             SD               MC Error         95% HPD interval\n",
      "  -------------------------------------------------------------------\n",
      "  \n",
      "  -1.847           1.410            0.007            [-4.681, 0.583]\n",
      "\n",
      "  Posterior quantiles:\n",
      "  2.5            25             50             75             97.5\n",
      "  |--------------|==============|==============|--------------|\n",
      "  \n",
      "  -5.204         -2.462         -1.633         -0.979         0.245\n",
      "\n",
      "\n",
      "Effect:\n",
      "\n",
      "  Mean             SD               MC Error         95% HPD interval\n",
      "  -------------------------------------------------------------------\n",
      "  \n",
      "  0.009            0.194            0.001            [-0.387, 0.390]\n",
      "\n",
      "  Posterior quantiles:\n",
      "  2.5            25             50             75             97.5\n",
      "  |--------------|==============|==============|--------------|\n",
      "  \n",
      "  -0.407         -0.106         0.018          0.134          0.373\n",
      "\n"
     ]
    }
   ],
   "source": [
    "pm.summary(trace[3000:],\n",
    "           varnames=['Mean_Diff', 'Stdev_Diff', 'Effect'])"
   ]
  },
  {
   "cell_type": "markdown",
   "metadata": {
    "collapsed": true
   },
   "source": [
    "## Imputing the Number of Bombings for 1993"
   ]
  },
  {
   "cell_type": "code",
   "execution_count": 34,
   "metadata": {
    "collapsed": false
   },
   "outputs": [],
   "source": [
    "rmean= gtd[['year','date', 'region', 'attack_type']]"
   ]
  },
  {
   "cell_type": "code",
   "execution_count": 35,
   "metadata": {
    "collapsed": true
   },
   "outputs": [],
   "source": [
    "rmean = rmean[rmean.attack_type == 'Bombing/Explosion']"
   ]
  },
  {
   "cell_type": "code",
   "execution_count": 36,
   "metadata": {
    "collapsed": false
   },
   "outputs": [],
   "source": [
    "dum_mean = pd.get_dummies(rmean['attack_type'])"
   ]
  },
  {
   "cell_type": "code",
   "execution_count": 37,
   "metadata": {
    "collapsed": true
   },
   "outputs": [],
   "source": [
    "rmean = pd.concat([rmean, dum_mean],axis=1)"
   ]
  },
  {
   "cell_type": "code",
   "execution_count": 38,
   "metadata": {
    "collapsed": true
   },
   "outputs": [],
   "source": [
    "rmean = rmean.drop(['region','attack_type','year'],axis=1)"
   ]
  },
  {
   "cell_type": "code",
   "execution_count": 39,
   "metadata": {
    "collapsed": false
   },
   "outputs": [],
   "source": [
    "rmean.index = rmean['date']"
   ]
  },
  {
   "cell_type": "code",
   "execution_count": 40,
   "metadata": {
    "collapsed": false
   },
   "outputs": [
    {
     "data": {
      "text/html": [
       "<div>\n",
       "<table border=\"1\" class=\"dataframe\">\n",
       "  <thead>\n",
       "    <tr style=\"text-align: right;\">\n",
       "      <th></th>\n",
       "      <th>Bombing/Explosion</th>\n",
       "    </tr>\n",
       "    <tr>\n",
       "      <th>date</th>\n",
       "      <th></th>\n",
       "    </tr>\n",
       "  </thead>\n",
       "  <tbody>\n",
       "    <tr>\n",
       "      <th>1970-12-31</th>\n",
       "      <td>333.0</td>\n",
       "    </tr>\n",
       "    <tr>\n",
       "      <th>1971-12-31</th>\n",
       "      <td>238.0</td>\n",
       "    </tr>\n",
       "    <tr>\n",
       "      <th>1972-12-31</th>\n",
       "      <td>186.0</td>\n",
       "    </tr>\n",
       "    <tr>\n",
       "      <th>1973-12-31</th>\n",
       "      <td>149.0</td>\n",
       "    </tr>\n",
       "    <tr>\n",
       "      <th>1974-12-31</th>\n",
       "      <td>284.0</td>\n",
       "    </tr>\n",
       "  </tbody>\n",
       "</table>\n",
       "</div>"
      ],
      "text/plain": [
       "            Bombing/Explosion\n",
       "date                         \n",
       "1970-12-31              333.0\n",
       "1971-12-31              238.0\n",
       "1972-12-31              186.0\n",
       "1973-12-31              149.0\n",
       "1974-12-31              284.0"
      ]
     },
     "execution_count": 40,
     "metadata": {},
     "output_type": "execute_result"
    }
   ],
   "source": [
    "rmean = rmean.resample('A').sum()\n",
    "rmean.head()"
   ]
  },
  {
   "cell_type": "code",
   "execution_count": 41,
   "metadata": {
    "collapsed": false
   },
   "outputs": [
    {
     "name": "stderr",
     "output_type": "stream",
     "text": [
      "/Users/valeriarozenbaum/anaconda/lib/python2.7/site-packages/ipykernel/__main__.py:2: FutureWarning: pd.rolling_mean is deprecated for DataFrame and will be removed in a future version, replace with \n",
      "\tDataFrame.rolling(window=1,center=False).mean()\n",
      "  from ipykernel import kernelapp as app\n"
     ]
    }
   ],
   "source": [
    "before93 = rmean['1970':'1992']\n",
    "rollmeanbefore = pd.rolling_mean(before93, window = 1)"
   ]
  },
  {
   "cell_type": "code",
   "execution_count": 106,
   "metadata": {
    "collapsed": false
   },
   "outputs": [
    {
     "data": {
      "text/plain": [
       "<matplotlib.axes._subplots.AxesSubplot at 0x1398c3b50>"
      ]
     },
     "execution_count": 106,
     "metadata": {},
     "output_type": "execute_result"
    },
    {
     "data": {
      "image/png": "[encoded data removed]",
      "text/plain": [
       "<matplotlib.figure.Figure at 0x13975fa50>"
      ]
     },
     "metadata": {},
     "output_type": "display_data"
    }
   ],
   "source": [
    "rollmeanbefore.plot(color='Green', title='Rolling Weekly Mean for Bombings Before 1993', figsize=(8,6))\n",
    "\n"
   ]
  },
  {
   "cell_type": "code",
   "execution_count": 45,
   "metadata": {
    "collapsed": false
   },
   "outputs": [
    {
     "name": "stderr",
     "output_type": "stream",
     "text": [
      "/Users/valeriarozenbaum/anaconda/lib/python2.7/site-packages/ipykernel/__main__.py:2: FutureWarning: pd.rolling_mean is deprecated for DataFrame and will be removed in a future version, replace with \n",
      "\tDataFrame.rolling(window=1,center=False).mean()\n",
      "  from ipykernel import kernelapp as app\n"
     ]
    }
   ],
   "source": [
    "after93 = rmean['1994':'2015']\n",
    "rollmeanafter = pd.rolling_mean(after93, window = 1)"
   ]
  },
  {
   "cell_type": "code",
   "execution_count": 104,
   "metadata": {
    "collapsed": false
   },
   "outputs": [
    {
     "data": {
      "text/plain": [
       "<matplotlib.axes._subplots.AxesSubplot at 0x1393d4ad0>"
      ]
     },
     "execution_count": 104,
     "metadata": {},
     "output_type": "execute_result"
    },
    {
     "data": {
      "image/png": "[encoded data removed]",
      "text/plain": [
       "<matplotlib.figure.Figure at 0x139405210>"
      ]
     },
     "metadata": {},
     "output_type": "display_data"
    }
   ],
   "source": [
    "rollmeanafter.plot(color='navy', title='Rolling Weekly Mean for Bombings After 1993', figsize=(8,6))\n"
   ]
  },
  {
   "cell_type": "code",
   "execution_count": 47,
   "metadata": {
    "collapsed": false
   },
   "outputs": [
    {
     "name": "stdout",
     "output_type": "stream",
     "text": [
      "3726.0\n",
      "1944.0\n",
      "5670.0\n",
      "1417\n"
     ]
    }
   ],
   "source": [
    "print 1988.0 + 1738.0 #These are the values for the years of 1991 and 1992\n",
    "\n",
    "print 1153.0 + 791.0 #These are the values for years of 1994 and 1995\n",
    "\n",
    "print 3726.0 + 1944.0 #Adding up 91+92 with 94+95\n",
    "\n",
    "print 5670/4 #Dividing total value by the 4 (4 years used)"
   ]
  },
  {
   "cell_type": "code",
   "execution_count": 48,
   "metadata": {
    "collapsed": true
   },
   "outputs": [],
   "source": [
    "rmean.replace(to_replace=np.nan, value=1417, inplace=True)"
   ]
  },
  {
   "cell_type": "code",
   "execution_count": 107,
   "metadata": {
    "collapsed": false
   },
   "outputs": [
    {
     "data": {
      "text/plain": [
       "<matplotlib.axes._subplots.AxesSubplot at 0x139a99950>"
      ]
     },
     "execution_count": 107,
     "metadata": {},
     "output_type": "execute_result"
    },
    {
     "data": {
      "image/png": "[encoded data removed]",
      "text/plain": [
       "<matplotlib.figure.Figure at 0x1398d0e90>"
      ]
     },
     "metadata": {},
     "output_type": "display_data"
    }
   ],
   "source": [
    "rmean.plot(color='firebrick', title='Rolling Weekly Mean of Bombings 1970-2015', figsize=(8,6))"
   ]
  },
  {
   "cell_type": "code",
   "execution_count": null,
   "metadata": {
    "collapsed": true
   },
   "outputs": [],
   "source": []
  }
 ],
 "metadata": {
  "kernelspec": {
   "display_name": "Python 2",
   "language": "python",
   "name": "python2"
  },
  "language_info": {
   "codemirror_mode": {
    "name": "ipython",
    "version": 2
   },
   "file_extension": ".py",
   "mimetype": "text/x-python",
   "name": "python",
   "nbconvert_exporter": "python",
   "pygments_lexer": "ipython2",
   "version": "2.7.13"
  }
 },
 "nbformat": 4,
 "nbformat_minor": 2
}
